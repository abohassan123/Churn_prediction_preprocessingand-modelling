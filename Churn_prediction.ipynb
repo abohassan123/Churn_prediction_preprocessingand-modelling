{
 "cells": [
  {
   "cell_type": "markdown",
   "metadata": {},
   "source": [
    "### `BY : Mohamed Ahmed Saad Abohassan`"
   ]
  },
  {
   "cell_type": "markdown",
   "metadata": {},
   "source": [
    "### ` import Libaries`"
   ]
  },
  {
   "cell_type": "code",
   "execution_count": 1,
   "metadata": {},
   "outputs": [],
   "source": [
    "import numpy as np\n",
    "import pandas as pd\n",
    "import matplotlib.pyplot as plt\n",
    "from sklearn.model_selection import train_test_split\n",
    "import statsmodels.api as sm\n",
    "from scipy.stats import shapiro\n",
    "from sklearn.preprocessing import MinMaxScaler\n",
    "from sklearn.preprocessing import StandardScaler\n",
    "from sklearn.preprocessing import LabelEncoder\n",
    "from category_encoders import OrdinalEncoder \n",
    "from sklearn.preprocessing import OneHotEncoder\n",
    "from sklearn.metrics import accuracy_score\n",
    "from sklearn.metrics import recall_score\n",
    "from sklearn.linear_model import LogisticRegression\n",
    "from sklearn.metrics import confusion_matrix\n",
    "from sklearn import metrics\n",
    "\n",
    "\n",
    "\n",
    "import warnings\n",
    "warnings.filterwarnings('ignore')\n",
    "pd.set_option(\"display.max_columns\",None)"
   ]
  },
  {
   "cell_type": "code",
   "execution_count": 2,
   "metadata": {},
   "outputs": [],
   "source": [
    "df= pd.read_csv('Churn_Modelling.csv').drop(columns=['RowNumber'])"
   ]
  },
  {
   "cell_type": "code",
   "execution_count": 3,
   "metadata": {},
   "outputs": [],
   "source": [
    "df2= pd.read_csv('Churn_Modelling.csv').drop(columns=['RowNumber'])\n"
   ]
  },
  {
   "cell_type": "code",
   "execution_count": 4,
   "metadata": {},
   "outputs": [
    {
     "data": {
      "text/html": [
       "<div>\n",
       "<style scoped>\n",
       "    .dataframe tbody tr th:only-of-type {\n",
       "        vertical-align: middle;\n",
       "    }\n",
       "\n",
       "    .dataframe tbody tr th {\n",
       "        vertical-align: top;\n",
       "    }\n",
       "\n",
       "    .dataframe thead th {\n",
       "        text-align: right;\n",
       "    }\n",
       "</style>\n",
       "<table border=\"1\" class=\"dataframe\">\n",
       "  <thead>\n",
       "    <tr style=\"text-align: right;\">\n",
       "      <th></th>\n",
       "      <th>CustomerId</th>\n",
       "      <th>Surname</th>\n",
       "      <th>CreditScore</th>\n",
       "      <th>Geography</th>\n",
       "      <th>Gender</th>\n",
       "      <th>Age</th>\n",
       "      <th>Tenure</th>\n",
       "      <th>Balance</th>\n",
       "      <th>NumOfProducts</th>\n",
       "      <th>HasCrCard</th>\n",
       "      <th>IsActiveMember</th>\n",
       "      <th>EstimatedSalary</th>\n",
       "      <th>Exited</th>\n",
       "    </tr>\n",
       "  </thead>\n",
       "  <tbody>\n",
       "    <tr>\n",
       "      <th>0</th>\n",
       "      <td>15634602</td>\n",
       "      <td>Hargrave</td>\n",
       "      <td>619</td>\n",
       "      <td>France</td>\n",
       "      <td>Female</td>\n",
       "      <td>42</td>\n",
       "      <td>2</td>\n",
       "      <td>0.00</td>\n",
       "      <td>1</td>\n",
       "      <td>1</td>\n",
       "      <td>1</td>\n",
       "      <td>101348.88</td>\n",
       "      <td>1</td>\n",
       "    </tr>\n",
       "    <tr>\n",
       "      <th>1</th>\n",
       "      <td>15647311</td>\n",
       "      <td>Hill</td>\n",
       "      <td>608</td>\n",
       "      <td>Spain</td>\n",
       "      <td>Female</td>\n",
       "      <td>41</td>\n",
       "      <td>1</td>\n",
       "      <td>83807.86</td>\n",
       "      <td>1</td>\n",
       "      <td>0</td>\n",
       "      <td>1</td>\n",
       "      <td>112542.58</td>\n",
       "      <td>0</td>\n",
       "    </tr>\n",
       "    <tr>\n",
       "      <th>2</th>\n",
       "      <td>15619304</td>\n",
       "      <td>Onio</td>\n",
       "      <td>502</td>\n",
       "      <td>France</td>\n",
       "      <td>Female</td>\n",
       "      <td>42</td>\n",
       "      <td>8</td>\n",
       "      <td>159660.80</td>\n",
       "      <td>3</td>\n",
       "      <td>1</td>\n",
       "      <td>0</td>\n",
       "      <td>113931.57</td>\n",
       "      <td>1</td>\n",
       "    </tr>\n",
       "    <tr>\n",
       "      <th>3</th>\n",
       "      <td>15701354</td>\n",
       "      <td>Boni</td>\n",
       "      <td>699</td>\n",
       "      <td>France</td>\n",
       "      <td>Female</td>\n",
       "      <td>39</td>\n",
       "      <td>1</td>\n",
       "      <td>0.00</td>\n",
       "      <td>2</td>\n",
       "      <td>0</td>\n",
       "      <td>0</td>\n",
       "      <td>93826.63</td>\n",
       "      <td>0</td>\n",
       "    </tr>\n",
       "    <tr>\n",
       "      <th>4</th>\n",
       "      <td>15737888</td>\n",
       "      <td>Mitchell</td>\n",
       "      <td>850</td>\n",
       "      <td>Spain</td>\n",
       "      <td>Female</td>\n",
       "      <td>43</td>\n",
       "      <td>2</td>\n",
       "      <td>125510.82</td>\n",
       "      <td>1</td>\n",
       "      <td>1</td>\n",
       "      <td>1</td>\n",
       "      <td>79084.10</td>\n",
       "      <td>0</td>\n",
       "    </tr>\n",
       "    <tr>\n",
       "      <th>...</th>\n",
       "      <td>...</td>\n",
       "      <td>...</td>\n",
       "      <td>...</td>\n",
       "      <td>...</td>\n",
       "      <td>...</td>\n",
       "      <td>...</td>\n",
       "      <td>...</td>\n",
       "      <td>...</td>\n",
       "      <td>...</td>\n",
       "      <td>...</td>\n",
       "      <td>...</td>\n",
       "      <td>...</td>\n",
       "      <td>...</td>\n",
       "    </tr>\n",
       "    <tr>\n",
       "      <th>9995</th>\n",
       "      <td>15606229</td>\n",
       "      <td>Obijiaku</td>\n",
       "      <td>771</td>\n",
       "      <td>France</td>\n",
       "      <td>Male</td>\n",
       "      <td>39</td>\n",
       "      <td>5</td>\n",
       "      <td>0.00</td>\n",
       "      <td>2</td>\n",
       "      <td>1</td>\n",
       "      <td>0</td>\n",
       "      <td>96270.64</td>\n",
       "      <td>0</td>\n",
       "    </tr>\n",
       "    <tr>\n",
       "      <th>9996</th>\n",
       "      <td>15569892</td>\n",
       "      <td>Johnstone</td>\n",
       "      <td>516</td>\n",
       "      <td>France</td>\n",
       "      <td>Male</td>\n",
       "      <td>35</td>\n",
       "      <td>10</td>\n",
       "      <td>57369.61</td>\n",
       "      <td>1</td>\n",
       "      <td>1</td>\n",
       "      <td>1</td>\n",
       "      <td>101699.77</td>\n",
       "      <td>0</td>\n",
       "    </tr>\n",
       "    <tr>\n",
       "      <th>9997</th>\n",
       "      <td>15584532</td>\n",
       "      <td>Liu</td>\n",
       "      <td>709</td>\n",
       "      <td>France</td>\n",
       "      <td>Female</td>\n",
       "      <td>36</td>\n",
       "      <td>7</td>\n",
       "      <td>0.00</td>\n",
       "      <td>1</td>\n",
       "      <td>0</td>\n",
       "      <td>1</td>\n",
       "      <td>42085.58</td>\n",
       "      <td>1</td>\n",
       "    </tr>\n",
       "    <tr>\n",
       "      <th>9998</th>\n",
       "      <td>15682355</td>\n",
       "      <td>Sabbatini</td>\n",
       "      <td>772</td>\n",
       "      <td>Germany</td>\n",
       "      <td>Male</td>\n",
       "      <td>42</td>\n",
       "      <td>3</td>\n",
       "      <td>75075.31</td>\n",
       "      <td>2</td>\n",
       "      <td>1</td>\n",
       "      <td>0</td>\n",
       "      <td>92888.52</td>\n",
       "      <td>1</td>\n",
       "    </tr>\n",
       "    <tr>\n",
       "      <th>9999</th>\n",
       "      <td>15628319</td>\n",
       "      <td>Walker</td>\n",
       "      <td>792</td>\n",
       "      <td>France</td>\n",
       "      <td>Female</td>\n",
       "      <td>28</td>\n",
       "      <td>4</td>\n",
       "      <td>130142.79</td>\n",
       "      <td>1</td>\n",
       "      <td>1</td>\n",
       "      <td>0</td>\n",
       "      <td>38190.78</td>\n",
       "      <td>0</td>\n",
       "    </tr>\n",
       "  </tbody>\n",
       "</table>\n",
       "<p>10000 rows × 13 columns</p>\n",
       "</div>"
      ],
      "text/plain": [
       "      CustomerId    Surname  CreditScore Geography  Gender  Age  Tenure  \\\n",
       "0       15634602   Hargrave          619    France  Female   42       2   \n",
       "1       15647311       Hill          608     Spain  Female   41       1   \n",
       "2       15619304       Onio          502    France  Female   42       8   \n",
       "3       15701354       Boni          699    France  Female   39       1   \n",
       "4       15737888   Mitchell          850     Spain  Female   43       2   \n",
       "...          ...        ...          ...       ...     ...  ...     ...   \n",
       "9995    15606229   Obijiaku          771    France    Male   39       5   \n",
       "9996    15569892  Johnstone          516    France    Male   35      10   \n",
       "9997    15584532        Liu          709    France  Female   36       7   \n",
       "9998    15682355  Sabbatini          772   Germany    Male   42       3   \n",
       "9999    15628319     Walker          792    France  Female   28       4   \n",
       "\n",
       "        Balance  NumOfProducts  HasCrCard  IsActiveMember  EstimatedSalary  \\\n",
       "0          0.00              1          1               1        101348.88   \n",
       "1      83807.86              1          0               1        112542.58   \n",
       "2     159660.80              3          1               0        113931.57   \n",
       "3          0.00              2          0               0         93826.63   \n",
       "4     125510.82              1          1               1         79084.10   \n",
       "...         ...            ...        ...             ...              ...   \n",
       "9995       0.00              2          1               0         96270.64   \n",
       "9996   57369.61              1          1               1        101699.77   \n",
       "9997       0.00              1          0               1         42085.58   \n",
       "9998   75075.31              2          1               0         92888.52   \n",
       "9999  130142.79              1          1               0         38190.78   \n",
       "\n",
       "      Exited  \n",
       "0          1  \n",
       "1          0  \n",
       "2          1  \n",
       "3          0  \n",
       "4          0  \n",
       "...      ...  \n",
       "9995       0  \n",
       "9996       0  \n",
       "9997       1  \n",
       "9998       1  \n",
       "9999       0  \n",
       "\n",
       "[10000 rows x 13 columns]"
      ]
     },
     "execution_count": 4,
     "metadata": {},
     "output_type": "execute_result"
    }
   ],
   "source": [
    "df"
   ]
  },
  {
   "cell_type": "code",
   "execution_count": 5,
   "metadata": {},
   "outputs": [],
   "source": [
    "X_train,X_test = train_test_split(df, test_size=0.2, random_state=2022)"
   ]
  },
  {
   "cell_type": "code",
   "execution_count": 6,
   "metadata": {},
   "outputs": [
    {
     "data": {
      "text/plain": [
       "(8000, 13)"
      ]
     },
     "execution_count": 6,
     "metadata": {},
     "output_type": "execute_result"
    }
   ],
   "source": [
    "X_train.shape"
   ]
  },
  {
   "cell_type": "code",
   "execution_count": 7,
   "metadata": {},
   "outputs": [
    {
     "data": {
      "text/plain": [
       "(2000, 13)"
      ]
     },
     "execution_count": 7,
     "metadata": {},
     "output_type": "execute_result"
    }
   ],
   "source": [
    "X_test.shape"
   ]
  },
  {
   "cell_type": "code",
   "execution_count": 8,
   "metadata": {},
   "outputs": [
    {
     "data": {
      "text/plain": [
       "2"
      ]
     },
     "execution_count": 8,
     "metadata": {},
     "output_type": "execute_result"
    }
   ],
   "source": [
    "num_columns=list(set(X_train.describe().columns)-set([\"CustomerId\"]))\n",
    "cat_columns=list(set(X_train.columns) - set(num_columns)- set([\"CustomerId\"])-set([\"Surname\"]))\n",
    "len(cat_columns)"
   ]
  },
  {
   "cell_type": "code",
   "execution_count": 9,
   "metadata": {},
   "outputs": [
    {
     "data": {
      "text/plain": [
       "['Gender', 'Geography']"
      ]
     },
     "execution_count": 9,
     "metadata": {},
     "output_type": "execute_result"
    }
   ],
   "source": [
    "cat_columns"
   ]
  },
  {
   "cell_type": "markdown",
   "metadata": {},
   "source": [
    "## `visualutions`"
   ]
  },
  {
   "cell_type": "code",
   "execution_count": 10,
   "metadata": {},
   "outputs": [
    {
     "data": {
      "text/plain": [
       "['Gender', 'Geography']"
      ]
     },
     "execution_count": 10,
     "metadata": {},
     "output_type": "execute_result"
    }
   ],
   "source": [
    "cat_columns"
   ]
  },
  {
   "cell_type": "code",
   "execution_count": 11,
   "metadata": {},
   "outputs": [
    {
     "data": {
      "image/png": "[encoded data removed]",
      "text/plain": [
       "<Figure size 1440x1080 with 9 Axes>"
      ]
     },
     "metadata": {
      "needs_background": "light"
     },
     "output_type": "display_data"
    }
   ],
   "source": [
    "X_train[num_columns].hist(bins=100,figsize=(20,15));"
   ]
  },
  {
   "cell_type": "code",
   "execution_count": 12,
   "metadata": {},
   "outputs": [],
   "source": [
    "#making dataframes each of them contains the categories of a catgegorical variable and theire frequencies\n",
    "df_list=[]\n",
    "for cat_column in cat_columns:\n",
    "    df_list.append(X_train.groupby([cat_column])['CustomerId'].count().reset_index().rename(columns = {'CustomerId' : 'count'}))"
   ]
  },
  {
   "cell_type": "code",
   "execution_count": 13,
   "metadata": {},
   "outputs": [
    {
     "data": {
      "image/png": "[encoded data removed]",
      "text/plain": [
       "<Figure size 1440x360 with 2 Axes>"
      ]
     },
     "metadata": {
      "needs_background": "light"
     },
     "output_type": "display_data"
    }
   ],
   "source": [
    "fig, axes = plt.subplots(nrows=1, ncols=2, figsize=(20, 5))\n",
    "i=0\n",
    "j=0\n",
    "for df in df_list[0:10]:\n",
    "    axes[j].bar(df.iloc[:, 0],df.iloc[:, 1], color ='maroon')\n",
    "    axes[j].set_title(df.columns[0])\n",
    "    if(j<1):\n",
    "        j+=1\n",
    "plt.show()"
   ]
  },
  {
   "cell_type": "markdown",
   "metadata": {},
   "source": [
    "## `Data Preprocessing`"
   ]
  },
  {
   "cell_type": "markdown",
   "metadata": {},
   "source": [
    "### `Dealing with nulls`"
   ]
  },
  {
   "cell_type": "code",
   "execution_count": 14,
   "metadata": {},
   "outputs": [
    {
     "data": {
      "text/html": [
       "<div>\n",
       "<style scoped>\n",
       "    .dataframe tbody tr th:only-of-type {\n",
       "        vertical-align: middle;\n",
       "    }\n",
       "\n",
       "    .dataframe tbody tr th {\n",
       "        vertical-align: top;\n",
       "    }\n",
       "\n",
       "    .dataframe thead th {\n",
       "        text-align: right;\n",
       "    }\n",
       "</style>\n",
       "<table border=\"1\" class=\"dataframe\">\n",
       "  <thead>\n",
       "    <tr style=\"text-align: right;\">\n",
       "      <th></th>\n",
       "      <th>index</th>\n",
       "      <th>null_count</th>\n",
       "    </tr>\n",
       "  </thead>\n",
       "  <tbody>\n",
       "    <tr>\n",
       "      <th>0</th>\n",
       "      <td>CustomerId</td>\n",
       "      <td>0</td>\n",
       "    </tr>\n",
       "    <tr>\n",
       "      <th>1</th>\n",
       "      <td>Surname</td>\n",
       "      <td>0</td>\n",
       "    </tr>\n",
       "    <tr>\n",
       "      <th>2</th>\n",
       "      <td>CreditScore</td>\n",
       "      <td>0</td>\n",
       "    </tr>\n",
       "    <tr>\n",
       "      <th>3</th>\n",
       "      <td>Geography</td>\n",
       "      <td>0</td>\n",
       "    </tr>\n",
       "    <tr>\n",
       "      <th>4</th>\n",
       "      <td>Gender</td>\n",
       "      <td>0</td>\n",
       "    </tr>\n",
       "    <tr>\n",
       "      <th>5</th>\n",
       "      <td>Age</td>\n",
       "      <td>0</td>\n",
       "    </tr>\n",
       "    <tr>\n",
       "      <th>6</th>\n",
       "      <td>Tenure</td>\n",
       "      <td>0</td>\n",
       "    </tr>\n",
       "    <tr>\n",
       "      <th>7</th>\n",
       "      <td>Balance</td>\n",
       "      <td>0</td>\n",
       "    </tr>\n",
       "    <tr>\n",
       "      <th>8</th>\n",
       "      <td>NumOfProducts</td>\n",
       "      <td>0</td>\n",
       "    </tr>\n",
       "    <tr>\n",
       "      <th>9</th>\n",
       "      <td>HasCrCard</td>\n",
       "      <td>0</td>\n",
       "    </tr>\n",
       "    <tr>\n",
       "      <th>10</th>\n",
       "      <td>IsActiveMember</td>\n",
       "      <td>0</td>\n",
       "    </tr>\n",
       "    <tr>\n",
       "      <th>11</th>\n",
       "      <td>EstimatedSalary</td>\n",
       "      <td>0</td>\n",
       "    </tr>\n",
       "    <tr>\n",
       "      <th>12</th>\n",
       "      <td>Exited</td>\n",
       "      <td>0</td>\n",
       "    </tr>\n",
       "  </tbody>\n",
       "</table>\n",
       "</div>"
      ],
      "text/plain": [
       "              index  null_count\n",
       "0        CustomerId           0\n",
       "1           Surname           0\n",
       "2       CreditScore           0\n",
       "3         Geography           0\n",
       "4            Gender           0\n",
       "5               Age           0\n",
       "6            Tenure           0\n",
       "7           Balance           0\n",
       "8     NumOfProducts           0\n",
       "9         HasCrCard           0\n",
       "10   IsActiveMember           0\n",
       "11  EstimatedSalary           0\n",
       "12           Exited           0"
      ]
     },
     "execution_count": 14,
     "metadata": {},
     "output_type": "execute_result"
    }
   ],
   "source": [
    "X_train.isna().sum().reset_index().rename(columns={0:\"null_count\"})"
   ]
  },
  {
   "cell_type": "code",
   "execution_count": 15,
   "metadata": {},
   "outputs": [
    {
     "data": {
      "text/html": [
       "<div>\n",
       "<style scoped>\n",
       "    .dataframe tbody tr th:only-of-type {\n",
       "        vertical-align: middle;\n",
       "    }\n",
       "\n",
       "    .dataframe tbody tr th {\n",
       "        vertical-align: top;\n",
       "    }\n",
       "\n",
       "    .dataframe thead th {\n",
       "        text-align: right;\n",
       "    }\n",
       "</style>\n",
       "<table border=\"1\" class=\"dataframe\">\n",
       "  <thead>\n",
       "    <tr style=\"text-align: right;\">\n",
       "      <th></th>\n",
       "      <th>index</th>\n",
       "      <th>null_count</th>\n",
       "    </tr>\n",
       "  </thead>\n",
       "  <tbody>\n",
       "    <tr>\n",
       "      <th>0</th>\n",
       "      <td>CustomerId</td>\n",
       "      <td>0</td>\n",
       "    </tr>\n",
       "    <tr>\n",
       "      <th>1</th>\n",
       "      <td>Surname</td>\n",
       "      <td>0</td>\n",
       "    </tr>\n",
       "    <tr>\n",
       "      <th>2</th>\n",
       "      <td>CreditScore</td>\n",
       "      <td>0</td>\n",
       "    </tr>\n",
       "    <tr>\n",
       "      <th>3</th>\n",
       "      <td>Geography</td>\n",
       "      <td>0</td>\n",
       "    </tr>\n",
       "    <tr>\n",
       "      <th>4</th>\n",
       "      <td>Gender</td>\n",
       "      <td>0</td>\n",
       "    </tr>\n",
       "    <tr>\n",
       "      <th>5</th>\n",
       "      <td>Age</td>\n",
       "      <td>0</td>\n",
       "    </tr>\n",
       "    <tr>\n",
       "      <th>6</th>\n",
       "      <td>Tenure</td>\n",
       "      <td>0</td>\n",
       "    </tr>\n",
       "    <tr>\n",
       "      <th>7</th>\n",
       "      <td>Balance</td>\n",
       "      <td>0</td>\n",
       "    </tr>\n",
       "    <tr>\n",
       "      <th>8</th>\n",
       "      <td>NumOfProducts</td>\n",
       "      <td>0</td>\n",
       "    </tr>\n",
       "    <tr>\n",
       "      <th>9</th>\n",
       "      <td>HasCrCard</td>\n",
       "      <td>0</td>\n",
       "    </tr>\n",
       "    <tr>\n",
       "      <th>10</th>\n",
       "      <td>IsActiveMember</td>\n",
       "      <td>0</td>\n",
       "    </tr>\n",
       "    <tr>\n",
       "      <th>11</th>\n",
       "      <td>EstimatedSalary</td>\n",
       "      <td>0</td>\n",
       "    </tr>\n",
       "    <tr>\n",
       "      <th>12</th>\n",
       "      <td>Exited</td>\n",
       "      <td>0</td>\n",
       "    </tr>\n",
       "  </tbody>\n",
       "</table>\n",
       "</div>"
      ],
      "text/plain": [
       "              index  null_count\n",
       "0        CustomerId           0\n",
       "1           Surname           0\n",
       "2       CreditScore           0\n",
       "3         Geography           0\n",
       "4            Gender           0\n",
       "5               Age           0\n",
       "6            Tenure           0\n",
       "7           Balance           0\n",
       "8     NumOfProducts           0\n",
       "9         HasCrCard           0\n",
       "10   IsActiveMember           0\n",
       "11  EstimatedSalary           0\n",
       "12           Exited           0"
      ]
     },
     "execution_count": 15,
     "metadata": {},
     "output_type": "execute_result"
    }
   ],
   "source": [
    "X_train.isna().sum().reset_index().rename(columns={0:\"null_count\"})"
   ]
  },
  {
   "cell_type": "markdown",
   "metadata": {},
   "source": [
    "### `Dealing with redd cols`"
   ]
  },
  {
   "cell_type": "code",
   "execution_count": 16,
   "metadata": {},
   "outputs": [],
   "source": [
    "th_count=X_train.shape[0]*0.8\n",
    "columns_to_drop=[]\n",
    "for col in num_columns :\n",
    "    if X_train.groupby(by=col)['CustomerId'].count().reset_index().sort_values(by=['CustomerId'],ascending=False).iloc[0,1] >th_count:\n",
    "            columns_to_drop.append(col)\n",
    "            print(f\"{col} is redondance ----droped\")\n",
    "X_train.drop(columns=columns_to_drop,inplace=True)\n",
    "X_test.drop(columns=columns_to_drop,inplace=True)"
   ]
  },
  {
   "cell_type": "code",
   "execution_count": 17,
   "metadata": {},
   "outputs": [
    {
     "data": {
      "text/plain": [
       "[]"
      ]
     },
     "execution_count": 17,
     "metadata": {},
     "output_type": "execute_result"
    }
   ],
   "source": [
    "columns_to_drop"
   ]
  },
  {
   "cell_type": "markdown",
   "metadata": {},
   "source": [
    "### `Dealing with skewness and outliers`"
   ]
  },
  {
   "cell_type": "code",
   "execution_count": 18,
   "metadata": {},
   "outputs": [
    {
     "data": {
      "text/html": [
       "<div>\n",
       "<style scoped>\n",
       "    .dataframe tbody tr th:only-of-type {\n",
       "        vertical-align: middle;\n",
       "    }\n",
       "\n",
       "    .dataframe tbody tr th {\n",
       "        vertical-align: top;\n",
       "    }\n",
       "\n",
       "    .dataframe thead th {\n",
       "        text-align: right;\n",
       "    }\n",
       "</style>\n",
       "<table border=\"1\" class=\"dataframe\">\n",
       "  <thead>\n",
       "    <tr style=\"text-align: right;\">\n",
       "      <th></th>\n",
       "      <th>CustomerId</th>\n",
       "      <th>Surname</th>\n",
       "      <th>CreditScore</th>\n",
       "      <th>Geography</th>\n",
       "      <th>Gender</th>\n",
       "      <th>Age</th>\n",
       "      <th>Tenure</th>\n",
       "      <th>Balance</th>\n",
       "      <th>NumOfProducts</th>\n",
       "      <th>HasCrCard</th>\n",
       "      <th>IsActiveMember</th>\n",
       "      <th>EstimatedSalary</th>\n",
       "      <th>Exited</th>\n",
       "    </tr>\n",
       "  </thead>\n",
       "  <tbody>\n",
       "    <tr>\n",
       "      <th>5516</th>\n",
       "      <td>15569878</td>\n",
       "      <td>Dale</td>\n",
       "      <td>592</td>\n",
       "      <td>France</td>\n",
       "      <td>Male</td>\n",
       "      <td>37</td>\n",
       "      <td>3</td>\n",
       "      <td>96651.03</td>\n",
       "      <td>1</td>\n",
       "      <td>1</td>\n",
       "      <td>1</td>\n",
       "      <td>3232.82</td>\n",
       "      <td>0</td>\n",
       "    </tr>\n",
       "    <tr>\n",
       "      <th>1255</th>\n",
       "      <td>15615032</td>\n",
       "      <td>Peng</td>\n",
       "      <td>624</td>\n",
       "      <td>Spain</td>\n",
       "      <td>Male</td>\n",
       "      <td>46</td>\n",
       "      <td>3</td>\n",
       "      <td>0.00</td>\n",
       "      <td>2</td>\n",
       "      <td>1</td>\n",
       "      <td>1</td>\n",
       "      <td>62825.03</td>\n",
       "      <td>0</td>\n",
       "    </tr>\n",
       "    <tr>\n",
       "      <th>4319</th>\n",
       "      <td>15759456</td>\n",
       "      <td>Lupton</td>\n",
       "      <td>609</td>\n",
       "      <td>Spain</td>\n",
       "      <td>Male</td>\n",
       "      <td>34</td>\n",
       "      <td>7</td>\n",
       "      <td>140694.78</td>\n",
       "      <td>2</td>\n",
       "      <td>1</td>\n",
       "      <td>0</td>\n",
       "      <td>46266.63</td>\n",
       "      <td>0</td>\n",
       "    </tr>\n",
       "    <tr>\n",
       "      <th>9372</th>\n",
       "      <td>15775826</td>\n",
       "      <td>Iadanza</td>\n",
       "      <td>677</td>\n",
       "      <td>France</td>\n",
       "      <td>Male</td>\n",
       "      <td>30</td>\n",
       "      <td>1</td>\n",
       "      <td>78133.15</td>\n",
       "      <td>1</td>\n",
       "      <td>0</td>\n",
       "      <td>1</td>\n",
       "      <td>174225.88</td>\n",
       "      <td>0</td>\n",
       "    </tr>\n",
       "    <tr>\n",
       "      <th>1723</th>\n",
       "      <td>15567422</td>\n",
       "      <td>Chiazagomekpele</td>\n",
       "      <td>630</td>\n",
       "      <td>France</td>\n",
       "      <td>Male</td>\n",
       "      <td>42</td>\n",
       "      <td>6</td>\n",
       "      <td>0.00</td>\n",
       "      <td>2</td>\n",
       "      <td>1</td>\n",
       "      <td>0</td>\n",
       "      <td>162697.93</td>\n",
       "      <td>0</td>\n",
       "    </tr>\n",
       "    <tr>\n",
       "      <th>...</th>\n",
       "      <td>...</td>\n",
       "      <td>...</td>\n",
       "      <td>...</td>\n",
       "      <td>...</td>\n",
       "      <td>...</td>\n",
       "      <td>...</td>\n",
       "      <td>...</td>\n",
       "      <td>...</td>\n",
       "      <td>...</td>\n",
       "      <td>...</td>\n",
       "      <td>...</td>\n",
       "      <td>...</td>\n",
       "      <td>...</td>\n",
       "    </tr>\n",
       "    <tr>\n",
       "      <th>6384</th>\n",
       "      <td>15812073</td>\n",
       "      <td>Palmer</td>\n",
       "      <td>529</td>\n",
       "      <td>France</td>\n",
       "      <td>Female</td>\n",
       "      <td>31</td>\n",
       "      <td>7</td>\n",
       "      <td>0.00</td>\n",
       "      <td>2</td>\n",
       "      <td>1</td>\n",
       "      <td>1</td>\n",
       "      <td>175697.87</td>\n",
       "      <td>0</td>\n",
       "    </tr>\n",
       "    <tr>\n",
       "      <th>4720</th>\n",
       "      <td>15780654</td>\n",
       "      <td>Sergeyev</td>\n",
       "      <td>619</td>\n",
       "      <td>Germany</td>\n",
       "      <td>Female</td>\n",
       "      <td>33</td>\n",
       "      <td>3</td>\n",
       "      <td>100488.92</td>\n",
       "      <td>2</td>\n",
       "      <td>0</td>\n",
       "      <td>1</td>\n",
       "      <td>36446.74</td>\n",
       "      <td>0</td>\n",
       "    </tr>\n",
       "    <tr>\n",
       "      <th>173</th>\n",
       "      <td>15586310</td>\n",
       "      <td>Ting</td>\n",
       "      <td>578</td>\n",
       "      <td>France</td>\n",
       "      <td>Male</td>\n",
       "      <td>30</td>\n",
       "      <td>4</td>\n",
       "      <td>169462.09</td>\n",
       "      <td>1</td>\n",
       "      <td>1</td>\n",
       "      <td>0</td>\n",
       "      <td>112187.11</td>\n",
       "      <td>0</td>\n",
       "    </tr>\n",
       "    <tr>\n",
       "      <th>1244</th>\n",
       "      <td>15616709</td>\n",
       "      <td>Bunton</td>\n",
       "      <td>587</td>\n",
       "      <td>Germany</td>\n",
       "      <td>Female</td>\n",
       "      <td>38</td>\n",
       "      <td>0</td>\n",
       "      <td>132122.42</td>\n",
       "      <td>2</td>\n",
       "      <td>0</td>\n",
       "      <td>0</td>\n",
       "      <td>31730.32</td>\n",
       "      <td>0</td>\n",
       "    </tr>\n",
       "    <tr>\n",
       "      <th>4989</th>\n",
       "      <td>15602851</td>\n",
       "      <td>Ozioma</td>\n",
       "      <td>629</td>\n",
       "      <td>France</td>\n",
       "      <td>Male</td>\n",
       "      <td>40</td>\n",
       "      <td>9</td>\n",
       "      <td>0.00</td>\n",
       "      <td>1</td>\n",
       "      <td>1</td>\n",
       "      <td>0</td>\n",
       "      <td>106.67</td>\n",
       "      <td>0</td>\n",
       "    </tr>\n",
       "  </tbody>\n",
       "</table>\n",
       "<p>8000 rows × 13 columns</p>\n",
       "</div>"
      ],
      "text/plain": [
       "      CustomerId          Surname  CreditScore Geography  Gender  Age  Tenure  \\\n",
       "5516    15569878             Dale          592    France    Male   37       3   \n",
       "1255    15615032             Peng          624     Spain    Male   46       3   \n",
       "4319    15759456           Lupton          609     Spain    Male   34       7   \n",
       "9372    15775826          Iadanza          677    France    Male   30       1   \n",
       "1723    15567422  Chiazagomekpele          630    France    Male   42       6   \n",
       "...          ...              ...          ...       ...     ...  ...     ...   \n",
       "6384    15812073           Palmer          529    France  Female   31       7   \n",
       "4720    15780654         Sergeyev          619   Germany  Female   33       3   \n",
       "173     15586310             Ting          578    France    Male   30       4   \n",
       "1244    15616709           Bunton          587   Germany  Female   38       0   \n",
       "4989    15602851           Ozioma          629    France    Male   40       9   \n",
       "\n",
       "        Balance  NumOfProducts  HasCrCard  IsActiveMember  EstimatedSalary  \\\n",
       "5516   96651.03              1          1               1          3232.82   \n",
       "1255       0.00              2          1               1         62825.03   \n",
       "4319  140694.78              2          1               0         46266.63   \n",
       "9372   78133.15              1          0               1        174225.88   \n",
       "1723       0.00              2          1               0        162697.93   \n",
       "...         ...            ...        ...             ...              ...   \n",
       "6384       0.00              2          1               1        175697.87   \n",
       "4720  100488.92              2          0               1         36446.74   \n",
       "173   169462.09              1          1               0        112187.11   \n",
       "1244  132122.42              2          0               0         31730.32   \n",
       "4989       0.00              1          1               0           106.67   \n",
       "\n",
       "      Exited  \n",
       "5516       0  \n",
       "1255       0  \n",
       "4319       0  \n",
       "9372       0  \n",
       "1723       0  \n",
       "...      ...  \n",
       "6384       0  \n",
       "4720       0  \n",
       "173        0  \n",
       "1244       0  \n",
       "4989       0  \n",
       "\n",
       "[8000 rows x 13 columns]"
      ]
     },
     "execution_count": 18,
     "metadata": {},
     "output_type": "execute_result"
    }
   ],
   "source": [
    "X_train"
   ]
  },
  {
   "cell_type": "code",
   "execution_count": 19,
   "metadata": {},
   "outputs": [],
   "source": [
    "## separating the categorical features and numerical features\n",
    "num_columns = list(set(X_train.describe().columns.to_list()) - set(['CustomerId', 'HasCrCard','IsActiveMember', 'Exited']))\n",
    "cat_cols = list(set(X_train.columns.to_list()) - set(num_columns) - set(['CustomerId', 'HasCrCard','IsActiveMember', 'Exited']))"
   ]
  },
  {
   "cell_type": "code",
   "execution_count": 20,
   "metadata": {},
   "outputs": [
    {
     "data": {
      "text/html": [
       "<div>\n",
       "<style scoped>\n",
       "    .dataframe tbody tr th:only-of-type {\n",
       "        vertical-align: middle;\n",
       "    }\n",
       "\n",
       "    .dataframe tbody tr th {\n",
       "        vertical-align: top;\n",
       "    }\n",
       "\n",
       "    .dataframe thead th {\n",
       "        text-align: right;\n",
       "    }\n",
       "</style>\n",
       "<table border=\"1\" class=\"dataframe\">\n",
       "  <thead>\n",
       "    <tr style=\"text-align: right;\">\n",
       "      <th></th>\n",
       "      <th>Tenure</th>\n",
       "      <th>NumOfProducts</th>\n",
       "      <th>EstimatedSalary</th>\n",
       "      <th>Age</th>\n",
       "      <th>CreditScore</th>\n",
       "      <th>Balance</th>\n",
       "    </tr>\n",
       "  </thead>\n",
       "  <tbody>\n",
       "    <tr>\n",
       "      <th>5516</th>\n",
       "      <td>3</td>\n",
       "      <td>1</td>\n",
       "      <td>3232.82</td>\n",
       "      <td>37</td>\n",
       "      <td>592</td>\n",
       "      <td>96651.03</td>\n",
       "    </tr>\n",
       "    <tr>\n",
       "      <th>1255</th>\n",
       "      <td>3</td>\n",
       "      <td>2</td>\n",
       "      <td>62825.03</td>\n",
       "      <td>46</td>\n",
       "      <td>624</td>\n",
       "      <td>0.00</td>\n",
       "    </tr>\n",
       "    <tr>\n",
       "      <th>4319</th>\n",
       "      <td>7</td>\n",
       "      <td>2</td>\n",
       "      <td>46266.63</td>\n",
       "      <td>34</td>\n",
       "      <td>609</td>\n",
       "      <td>140694.78</td>\n",
       "    </tr>\n",
       "    <tr>\n",
       "      <th>9372</th>\n",
       "      <td>1</td>\n",
       "      <td>1</td>\n",
       "      <td>174225.88</td>\n",
       "      <td>30</td>\n",
       "      <td>677</td>\n",
       "      <td>78133.15</td>\n",
       "    </tr>\n",
       "    <tr>\n",
       "      <th>1723</th>\n",
       "      <td>6</td>\n",
       "      <td>2</td>\n",
       "      <td>162697.93</td>\n",
       "      <td>42</td>\n",
       "      <td>630</td>\n",
       "      <td>0.00</td>\n",
       "    </tr>\n",
       "    <tr>\n",
       "      <th>...</th>\n",
       "      <td>...</td>\n",
       "      <td>...</td>\n",
       "      <td>...</td>\n",
       "      <td>...</td>\n",
       "      <td>...</td>\n",
       "      <td>...</td>\n",
       "    </tr>\n",
       "    <tr>\n",
       "      <th>6384</th>\n",
       "      <td>7</td>\n",
       "      <td>2</td>\n",
       "      <td>175697.87</td>\n",
       "      <td>31</td>\n",
       "      <td>529</td>\n",
       "      <td>0.00</td>\n",
       "    </tr>\n",
       "    <tr>\n",
       "      <th>4720</th>\n",
       "      <td>3</td>\n",
       "      <td>2</td>\n",
       "      <td>36446.74</td>\n",
       "      <td>33</td>\n",
       "      <td>619</td>\n",
       "      <td>100488.92</td>\n",
       "    </tr>\n",
       "    <tr>\n",
       "      <th>173</th>\n",
       "      <td>4</td>\n",
       "      <td>1</td>\n",
       "      <td>112187.11</td>\n",
       "      <td>30</td>\n",
       "      <td>578</td>\n",
       "      <td>169462.09</td>\n",
       "    </tr>\n",
       "    <tr>\n",
       "      <th>1244</th>\n",
       "      <td>0</td>\n",
       "      <td>2</td>\n",
       "      <td>31730.32</td>\n",
       "      <td>38</td>\n",
       "      <td>587</td>\n",
       "      <td>132122.42</td>\n",
       "    </tr>\n",
       "    <tr>\n",
       "      <th>4989</th>\n",
       "      <td>9</td>\n",
       "      <td>1</td>\n",
       "      <td>106.67</td>\n",
       "      <td>40</td>\n",
       "      <td>629</td>\n",
       "      <td>0.00</td>\n",
       "    </tr>\n",
       "  </tbody>\n",
       "</table>\n",
       "<p>8000 rows × 6 columns</p>\n",
       "</div>"
      ],
      "text/plain": [
       "      Tenure  NumOfProducts  EstimatedSalary  Age  CreditScore    Balance\n",
       "5516       3              1          3232.82   37          592   96651.03\n",
       "1255       3              2         62825.03   46          624       0.00\n",
       "4319       7              2         46266.63   34          609  140694.78\n",
       "9372       1              1        174225.88   30          677   78133.15\n",
       "1723       6              2        162697.93   42          630       0.00\n",
       "...      ...            ...              ...  ...          ...        ...\n",
       "6384       7              2        175697.87   31          529       0.00\n",
       "4720       3              2         36446.74   33          619  100488.92\n",
       "173        4              1        112187.11   30          578  169462.09\n",
       "1244       0              2         31730.32   38          587  132122.42\n",
       "4989       9              1           106.67   40          629       0.00\n",
       "\n",
       "[8000 rows x 6 columns]"
      ]
     },
     "execution_count": 20,
     "metadata": {},
     "output_type": "execute_result"
    }
   ],
   "source": [
    "X_train[num_columns]"
   ]
  },
  {
   "cell_type": "code",
   "execution_count": 21,
   "metadata": {},
   "outputs": [
    {
     "data": {
      "text/html": [
       "<div>\n",
       "<style scoped>\n",
       "    .dataframe tbody tr th:only-of-type {\n",
       "        vertical-align: middle;\n",
       "    }\n",
       "\n",
       "    .dataframe tbody tr th {\n",
       "        vertical-align: top;\n",
       "    }\n",
       "\n",
       "    .dataframe thead th {\n",
       "        text-align: right;\n",
       "    }\n",
       "</style>\n",
       "<table border=\"1\" class=\"dataframe\">\n",
       "  <thead>\n",
       "    <tr style=\"text-align: right;\">\n",
       "      <th></th>\n",
       "      <th>Tenure</th>\n",
       "      <th>NumOfProducts</th>\n",
       "      <th>EstimatedSalary</th>\n",
       "      <th>Age</th>\n",
       "      <th>CreditScore</th>\n",
       "      <th>Balance</th>\n",
       "    </tr>\n",
       "  </thead>\n",
       "  <tbody>\n",
       "    <tr>\n",
       "      <th>5516</th>\n",
       "      <td>3</td>\n",
       "      <td>1</td>\n",
       "      <td>3232.82</td>\n",
       "      <td>37</td>\n",
       "      <td>592</td>\n",
       "      <td>96651.03</td>\n",
       "    </tr>\n",
       "    <tr>\n",
       "      <th>1255</th>\n",
       "      <td>3</td>\n",
       "      <td>2</td>\n",
       "      <td>62825.03</td>\n",
       "      <td>46</td>\n",
       "      <td>624</td>\n",
       "      <td>0.00</td>\n",
       "    </tr>\n",
       "    <tr>\n",
       "      <th>4319</th>\n",
       "      <td>7</td>\n",
       "      <td>2</td>\n",
       "      <td>46266.63</td>\n",
       "      <td>34</td>\n",
       "      <td>609</td>\n",
       "      <td>140694.78</td>\n",
       "    </tr>\n",
       "    <tr>\n",
       "      <th>9372</th>\n",
       "      <td>1</td>\n",
       "      <td>1</td>\n",
       "      <td>174225.88</td>\n",
       "      <td>30</td>\n",
       "      <td>677</td>\n",
       "      <td>78133.15</td>\n",
       "    </tr>\n",
       "    <tr>\n",
       "      <th>1723</th>\n",
       "      <td>6</td>\n",
       "      <td>2</td>\n",
       "      <td>162697.93</td>\n",
       "      <td>42</td>\n",
       "      <td>630</td>\n",
       "      <td>0.00</td>\n",
       "    </tr>\n",
       "    <tr>\n",
       "      <th>...</th>\n",
       "      <td>...</td>\n",
       "      <td>...</td>\n",
       "      <td>...</td>\n",
       "      <td>...</td>\n",
       "      <td>...</td>\n",
       "      <td>...</td>\n",
       "    </tr>\n",
       "    <tr>\n",
       "      <th>6384</th>\n",
       "      <td>7</td>\n",
       "      <td>2</td>\n",
       "      <td>175697.87</td>\n",
       "      <td>31</td>\n",
       "      <td>529</td>\n",
       "      <td>0.00</td>\n",
       "    </tr>\n",
       "    <tr>\n",
       "      <th>4720</th>\n",
       "      <td>3</td>\n",
       "      <td>2</td>\n",
       "      <td>36446.74</td>\n",
       "      <td>33</td>\n",
       "      <td>619</td>\n",
       "      <td>100488.92</td>\n",
       "    </tr>\n",
       "    <tr>\n",
       "      <th>173</th>\n",
       "      <td>4</td>\n",
       "      <td>1</td>\n",
       "      <td>112187.11</td>\n",
       "      <td>30</td>\n",
       "      <td>578</td>\n",
       "      <td>169462.09</td>\n",
       "    </tr>\n",
       "    <tr>\n",
       "      <th>1244</th>\n",
       "      <td>0</td>\n",
       "      <td>2</td>\n",
       "      <td>31730.32</td>\n",
       "      <td>38</td>\n",
       "      <td>587</td>\n",
       "      <td>132122.42</td>\n",
       "    </tr>\n",
       "    <tr>\n",
       "      <th>4989</th>\n",
       "      <td>9</td>\n",
       "      <td>1</td>\n",
       "      <td>106.67</td>\n",
       "      <td>40</td>\n",
       "      <td>629</td>\n",
       "      <td>0.00</td>\n",
       "    </tr>\n",
       "  </tbody>\n",
       "</table>\n",
       "<p>8000 rows × 6 columns</p>\n",
       "</div>"
      ],
      "text/plain": [
       "      Tenure  NumOfProducts  EstimatedSalary  Age  CreditScore    Balance\n",
       "5516       3              1          3232.82   37          592   96651.03\n",
       "1255       3              2         62825.03   46          624       0.00\n",
       "4319       7              2         46266.63   34          609  140694.78\n",
       "9372       1              1        174225.88   30          677   78133.15\n",
       "1723       6              2        162697.93   42          630       0.00\n",
       "...      ...            ...              ...  ...          ...        ...\n",
       "6384       7              2        175697.87   31          529       0.00\n",
       "4720       3              2         36446.74   33          619  100488.92\n",
       "173        4              1        112187.11   30          578  169462.09\n",
       "1244       0              2         31730.32   38          587  132122.42\n",
       "4989       9              1           106.67   40          629       0.00\n",
       "\n",
       "[8000 rows x 6 columns]"
      ]
     },
     "execution_count": 21,
     "metadata": {},
     "output_type": "execute_result"
    }
   ],
   "source": [
    "X_train[num_columns]"
   ]
  },
  {
   "cell_type": "markdown",
   "metadata": {},
   "source": [
    "### ` Handling skewness and outliers`"
   ]
  },
  {
   "cell_type": "code",
   "execution_count": 22,
   "metadata": {},
   "outputs": [],
   "source": [
    "##clamping_ouliers\n",
    "for col in num_columns:\n",
    "\n",
    "    Q1 = np.percentile(X_train[col], 25) \n",
    "\n",
    "    Q3 = np.percentile(X_train[col], 75) \n",
    "    IQR = Q3 - Q1 \n",
    "    upper = Q3+5*IQR\n",
    "    lower = Q1-5*IQR\n",
    "    X_train[col][X_train[col]<lower]=lower\n",
    "    X_train[col][X_train[col]>upper]=upper\n",
    "\n",
    "    X_test[col][X_test[col]<lower]=lower\n",
    "    X_test[col][X_test[col]>upper]=upper"
   ]
  },
  {
   "cell_type": "code",
   "execution_count": 23,
   "metadata": {},
   "outputs": [
    {
     "name": "stdout",
     "output_type": "stream",
     "text": [
      "Age : removed skewness\n"
     ]
    }
   ],
   "source": [
    "m=X_train[num_columns].mean(axis=0)\n",
    "std=X_train[num_columns].std(axis=0)\n",
    "skewed_cols = []\n",
    "\n",
    "sk_coff=((X_train[num_columns]-m)**3).sum(axis=0)/((X_train.shape[0]-1)* std**3)\n",
    "\n",
    "i=0\n",
    "for col in num_columns:\n",
    "    if abs(sk_coff[i]>1):\n",
    "        X_train[col]=np.log(np.abs(X_train[col]+1))\n",
    "        X_test[col]=np.log(np.abs(X_test[col]+1))\n",
    "        skewed_cols.append(col)\n",
    "        print(f\"{col} : removed skewness\")\n",
    "    i+=1\n"
   ]
  },
  {
   "cell_type": "code",
   "execution_count": 24,
   "metadata": {},
   "outputs": [
    {
     "data": {
      "text/plain": [
       "['Age']"
      ]
     },
     "execution_count": 24,
     "metadata": {},
     "output_type": "execute_result"
    }
   ],
   "source": [
    "skewed_cols"
   ]
  },
  {
   "cell_type": "code",
   "execution_count": 25,
   "metadata": {},
   "outputs": [
    {
     "data": {
      "text/plain": [
       "Tenure             0.004287\n",
       "NumOfProducts      0.774259\n",
       "EstimatedSalary    0.006118\n",
       "Age                1.018117\n",
       "CreditScore       -0.068076\n",
       "Balance           -0.142929\n",
       "dtype: float64"
      ]
     },
     "execution_count": 25,
     "metadata": {},
     "output_type": "execute_result"
    }
   ],
   "source": [
    "sk_coff"
   ]
  },
  {
   "cell_type": "code",
   "execution_count": 26,
   "metadata": {},
   "outputs": [
    {
     "name": "stdout",
     "output_type": "stream",
     "text": [
      "<class 'pandas.core.frame.DataFrame'>\n",
      "Int64Index: 8000 entries, 5516 to 4989\n",
      "Data columns (total 13 columns):\n",
      " #   Column           Non-Null Count  Dtype  \n",
      "---  ------           --------------  -----  \n",
      " 0   CustomerId       8000 non-null   int64  \n",
      " 1   Surname          8000 non-null   object \n",
      " 2   CreditScore      8000 non-null   int64  \n",
      " 3   Geography        8000 non-null   object \n",
      " 4   Gender           8000 non-null   object \n",
      " 5   Age              8000 non-null   float64\n",
      " 6   Tenure           8000 non-null   int64  \n",
      " 7   Balance          8000 non-null   float64\n",
      " 8   NumOfProducts    8000 non-null   int64  \n",
      " 9   HasCrCard        8000 non-null   int64  \n",
      " 10  IsActiveMember   8000 non-null   int64  \n",
      " 11  EstimatedSalary  8000 non-null   float64\n",
      " 12  Exited           8000 non-null   int64  \n",
      "dtypes: float64(3), int64(7), object(3)\n",
      "memory usage: 875.0+ KB\n"
     ]
    }
   ],
   "source": [
    "X_train.info()"
   ]
  },
  {
   "cell_type": "code",
   "execution_count": 27,
   "metadata": {},
   "outputs": [
    {
     "data": {
      "text/html": [
       "<div>\n",
       "<style scoped>\n",
       "    .dataframe tbody tr th:only-of-type {\n",
       "        vertical-align: middle;\n",
       "    }\n",
       "\n",
       "    .dataframe tbody tr th {\n",
       "        vertical-align: top;\n",
       "    }\n",
       "\n",
       "    .dataframe thead th {\n",
       "        text-align: right;\n",
       "    }\n",
       "</style>\n",
       "<table border=\"1\" class=\"dataframe\">\n",
       "  <thead>\n",
       "    <tr style=\"text-align: right;\">\n",
       "      <th></th>\n",
       "      <th>CustomerId</th>\n",
       "      <th>CreditScore</th>\n",
       "      <th>Age</th>\n",
       "      <th>Tenure</th>\n",
       "      <th>Balance</th>\n",
       "      <th>NumOfProducts</th>\n",
       "      <th>HasCrCard</th>\n",
       "      <th>IsActiveMember</th>\n",
       "      <th>EstimatedSalary</th>\n",
       "      <th>Exited</th>\n",
       "    </tr>\n",
       "  </thead>\n",
       "  <tbody>\n",
       "    <tr>\n",
       "      <th>count</th>\n",
       "      <td>8.000000e+03</td>\n",
       "      <td>8000.000000</td>\n",
       "      <td>8000.000000</td>\n",
       "      <td>8000.000000</td>\n",
       "      <td>8000.000000</td>\n",
       "      <td>8000.000000</td>\n",
       "      <td>8000.000000</td>\n",
       "      <td>8000.000000</td>\n",
       "      <td>8000.000000</td>\n",
       "      <td>8000.000000</td>\n",
       "    </tr>\n",
       "    <tr>\n",
       "      <th>mean</th>\n",
       "      <td>1.569113e+07</td>\n",
       "      <td>650.897750</td>\n",
       "      <td>3.654376</td>\n",
       "      <td>5.028875</td>\n",
       "      <td>76696.045283</td>\n",
       "      <td>1.524500</td>\n",
       "      <td>0.708250</td>\n",
       "      <td>0.516750</td>\n",
       "      <td>99988.568160</td>\n",
       "      <td>0.203000</td>\n",
       "    </tr>\n",
       "    <tr>\n",
       "      <th>std</th>\n",
       "      <td>7.175830e+04</td>\n",
       "      <td>96.566583</td>\n",
       "      <td>0.252560</td>\n",
       "      <td>2.899800</td>\n",
       "      <td>62380.930567</td>\n",
       "      <td>0.582831</td>\n",
       "      <td>0.454596</td>\n",
       "      <td>0.499751</td>\n",
       "      <td>57388.439998</td>\n",
       "      <td>0.402258</td>\n",
       "    </tr>\n",
       "    <tr>\n",
       "      <th>min</th>\n",
       "      <td>1.556570e+07</td>\n",
       "      <td>350.000000</td>\n",
       "      <td>2.944439</td>\n",
       "      <td>0.000000</td>\n",
       "      <td>0.000000</td>\n",
       "      <td>1.000000</td>\n",
       "      <td>0.000000</td>\n",
       "      <td>0.000000</td>\n",
       "      <td>11.580000</td>\n",
       "      <td>0.000000</td>\n",
       "    </tr>\n",
       "    <tr>\n",
       "      <th>25%</th>\n",
       "      <td>1.562882e+07</td>\n",
       "      <td>584.000000</td>\n",
       "      <td>3.496508</td>\n",
       "      <td>2.750000</td>\n",
       "      <td>0.000000</td>\n",
       "      <td>1.000000</td>\n",
       "      <td>0.000000</td>\n",
       "      <td>0.000000</td>\n",
       "      <td>51446.617500</td>\n",
       "      <td>0.000000</td>\n",
       "    </tr>\n",
       "    <tr>\n",
       "      <th>50%</th>\n",
       "      <td>1.569189e+07</td>\n",
       "      <td>652.000000</td>\n",
       "      <td>3.637586</td>\n",
       "      <td>5.000000</td>\n",
       "      <td>97405.605000</td>\n",
       "      <td>1.000000</td>\n",
       "      <td>1.000000</td>\n",
       "      <td>1.000000</td>\n",
       "      <td>99812.150000</td>\n",
       "      <td>0.000000</td>\n",
       "    </tr>\n",
       "    <tr>\n",
       "      <th>75%</th>\n",
       "      <td>1.575292e+07</td>\n",
       "      <td>718.000000</td>\n",
       "      <td>3.806662</td>\n",
       "      <td>8.000000</td>\n",
       "      <td>127652.345000</td>\n",
       "      <td>2.000000</td>\n",
       "      <td>1.000000</td>\n",
       "      <td>1.000000</td>\n",
       "      <td>148955.820000</td>\n",
       "      <td>0.000000</td>\n",
       "    </tr>\n",
       "    <tr>\n",
       "      <th>max</th>\n",
       "      <td>1.581569e+07</td>\n",
       "      <td>850.000000</td>\n",
       "      <td>4.532599</td>\n",
       "      <td>10.000000</td>\n",
       "      <td>250898.090000</td>\n",
       "      <td>4.000000</td>\n",
       "      <td>1.000000</td>\n",
       "      <td>1.000000</td>\n",
       "      <td>199992.480000</td>\n",
       "      <td>1.000000</td>\n",
       "    </tr>\n",
       "  </tbody>\n",
       "</table>\n",
       "</div>"
      ],
      "text/plain": [
       "         CustomerId  CreditScore          Age       Tenure        Balance  \\\n",
       "count  8.000000e+03  8000.000000  8000.000000  8000.000000    8000.000000   \n",
       "mean   1.569113e+07   650.897750     3.654376     5.028875   76696.045283   \n",
       "std    7.175830e+04    96.566583     0.252560     2.899800   62380.930567   \n",
       "min    1.556570e+07   350.000000     2.944439     0.000000       0.000000   \n",
       "25%    1.562882e+07   584.000000     3.496508     2.750000       0.000000   \n",
       "50%    1.569189e+07   652.000000     3.637586     5.000000   97405.605000   \n",
       "75%    1.575292e+07   718.000000     3.806662     8.000000  127652.345000   \n",
       "max    1.581569e+07   850.000000     4.532599    10.000000  250898.090000   \n",
       "\n",
       "       NumOfProducts    HasCrCard  IsActiveMember  EstimatedSalary  \\\n",
       "count    8000.000000  8000.000000     8000.000000      8000.000000   \n",
       "mean        1.524500     0.708250        0.516750     99988.568160   \n",
       "std         0.582831     0.454596        0.499751     57388.439998   \n",
       "min         1.000000     0.000000        0.000000        11.580000   \n",
       "25%         1.000000     0.000000        0.000000     51446.617500   \n",
       "50%         1.000000     1.000000        1.000000     99812.150000   \n",
       "75%         2.000000     1.000000        1.000000    148955.820000   \n",
       "max         4.000000     1.000000        1.000000    199992.480000   \n",
       "\n",
       "            Exited  \n",
       "count  8000.000000  \n",
       "mean      0.203000  \n",
       "std       0.402258  \n",
       "min       0.000000  \n",
       "25%       0.000000  \n",
       "50%       0.000000  \n",
       "75%       0.000000  \n",
       "max       1.000000  "
      ]
     },
     "execution_count": 27,
     "metadata": {},
     "output_type": "execute_result"
    }
   ],
   "source": [
    "X_train.describe()"
   ]
  },
  {
   "cell_type": "code",
   "execution_count": 28,
   "metadata": {},
   "outputs": [
    {
     "data": {
      "text/plain": [
       "(8000, 13)"
      ]
     },
     "execution_count": 28,
     "metadata": {},
     "output_type": "execute_result"
    }
   ],
   "source": [
    "X_train.shape"
   ]
  },
  {
   "cell_type": "code",
   "execution_count": 29,
   "metadata": {},
   "outputs": [
    {
     "data": {
      "text/plain": [
       "(2000, 13)"
      ]
     },
     "execution_count": 29,
     "metadata": {},
     "output_type": "execute_result"
    }
   ],
   "source": [
    "X_test.shape"
   ]
  },
  {
   "cell_type": "markdown",
   "metadata": {},
   "source": [
    "### `checking if the variable is normally distributed`"
   ]
  },
  {
   "cell_type": "code",
   "execution_count": 30,
   "metadata": {},
   "outputs": [
    {
     "data": {
      "text/plain": [
       "['Tenure', 'NumOfProducts', 'EstimatedSalary', 'Age', 'CreditScore', 'Balance']"
      ]
     },
     "execution_count": 30,
     "metadata": {},
     "output_type": "execute_result"
    }
   ],
   "source": [
    "num_columns"
   ]
  },
  {
   "cell_type": "code",
   "execution_count": 31,
   "metadata": {},
   "outputs": [
    {
     "data": {
      "text/plain": [
       "['Gender', 'Geography']"
      ]
     },
     "execution_count": 31,
     "metadata": {},
     "output_type": "execute_result"
    }
   ],
   "source": [
    "cat_columns"
   ]
  },
  {
   "cell_type": "code",
   "execution_count": 32,
   "metadata": {},
   "outputs": [
    {
     "data": {
      "image/png": "[encoded data removed]",
      "text/plain": [
       "<Figure size 1440x720 with 6 Axes>"
      ]
     },
     "metadata": {
      "needs_background": "light"
     },
     "output_type": "display_data"
    }
   ],
   "source": [
    "ncols = 3\n",
    "nrows=2\n",
    "fig, axes = plt.subplots(nrows = nrows, ncols = ncols, figsize=(20, 10))\n",
    "i=0\n",
    "j=0\n",
    "for col in num_columns:\n",
    "    sm.qqplot(X_train[col],fit = False, line='q', ax = axes[i, j])\n",
    "    axes[i, j].set_title(col)\n",
    "    if(j<ncols-1):\n",
    "        j+=1\n",
    "    else:\n",
    "        i+=1\n",
    "        j=0\n",
    "plt.show()"
   ]
  },
  {
   "cell_type": "code",
   "execution_count": 33,
   "metadata": {
    "scrolled": true
   },
   "outputs": [
    {
     "name": "stdout",
     "output_type": "stream",
     "text": [
      "W_Statistic=0.946, p=0.00000000\n",
      "Tenure does not look Gaussian (reject H0)\n",
      "W_Statistic=0.703, p=0.00000000\n",
      "NumOfProducts does not look Gaussian (reject H0)\n",
      "W_Statistic=0.959, p=0.00000000\n",
      "EstimatedSalary does not look Gaussian (reject H0)\n",
      "W_Statistic=0.993, p=0.01358434\n",
      "Age looks like gaussian (fail to reject H0)\n",
      "W_Statistic=0.992, p=0.00824749\n",
      "CreditScore looks like gaussian (fail to reject H0)\n",
      "W_Statistic=0.852, p=0.00000000\n",
      "Balance does not look Gaussian (reject H0)\n"
     ]
    }
   ],
   "source": [
    "\n",
    "#chick for min_max_scale or std\n",
    "feats_std_scale = []\n",
    "feats_min_max_scale = []\n",
    "sample_data  = X_train.sample(replace = False, n= 500)\n",
    "\n",
    "for col in num_columns:\n",
    "    stat, p = shapiro(sample_data[col])\n",
    "    print('W_Statistic=%.3f, p=%.8f' % (stat, p))\n",
    "\n",
    "    alpha = 0.001\n",
    "    if p > alpha:\n",
    "        print(f'{col} looks like gaussian (fail to reject H0)')\n",
    "        feats_std_scale.append(col)\n",
    "    else:\n",
    "        print(f'{col} does not look Gaussian (reject H0)')\n",
    "        feats_min_max_scale.append(col)"
   ]
  },
  {
   "cell_type": "code",
   "execution_count": 34,
   "metadata": {},
   "outputs": [
    {
     "data": {
      "text/plain": [
       "['Age', 'CreditScore']"
      ]
     },
     "execution_count": 34,
     "metadata": {},
     "output_type": "execute_result"
    }
   ],
   "source": [
    "feats_std_scale"
   ]
  },
  {
   "cell_type": "code",
   "execution_count": 35,
   "metadata": {},
   "outputs": [
    {
     "data": {
      "text/plain": [
       "['Tenure', 'NumOfProducts', 'EstimatedSalary', 'Balance']"
      ]
     },
     "execution_count": 35,
     "metadata": {},
     "output_type": "execute_result"
    }
   ],
   "source": [
    "feats_min_max_scale"
   ]
  },
  {
   "cell_type": "code",
   "execution_count": 36,
   "metadata": {},
   "outputs": [
    {
     "data": {
      "text/plain": [
       "(8000, 13)"
      ]
     },
     "execution_count": 36,
     "metadata": {},
     "output_type": "execute_result"
    }
   ],
   "source": [
    "X_train.shape"
   ]
  },
  {
   "cell_type": "code",
   "execution_count": 37,
   "metadata": {
    "scrolled": true
   },
   "outputs": [
    {
     "name": "stdout",
     "output_type": "stream",
     "text": [
      "start scaling : \n",
      "  \n",
      "(6409, 9)\n",
      "----------done-------------\n",
      "case1\n"
     ]
    }
   ],
   "source": [
    "print(\"start scaling : \\n  \")\n",
    "\n",
    "if len(feats_min_max_scale) !=0 :\n",
    "    min_max_scaler = MinMaxScaler()\n",
    "    min_max_scaler_model = min_max_scaler.fit(X_train[feats_min_max_scale])\n",
    "    min_max_scaled_data = pd.DataFrame(min_max_scaler_model.transform(X_train[feats_min_max_scale]), columns = feats_min_max_scale)\n",
    "    min_max_scaled_test_data = pd.DataFrame(min_max_scaler_model.transform(X_test[feats_min_max_scale]), columns = feats_min_max_scale)\n",
    "\n",
    "if len(feats_std_scale) !=0 :\n",
    "    std_scaler = StandardScaler()\n",
    "    std_scaler_model = std_scaler.fit(X_train[feats_std_scale])\n",
    "    std_scaled_data =pd.DataFrame( std_scaler_model.transform(X_train[feats_std_scale]), columns = feats_std_scale)\n",
    "    std_scaled_test_data =pd.DataFrame( std_scaler_model.transform(X_test[feats_std_scale]), columns = feats_std_scale)\n",
    "\n",
    "\n",
    "if len(feats_min_max_scale) and len(feats_std_scale) !=0:  \n",
    "    num_train_df = std_scaled_data.merge(min_max_scaled_data, right_index = True, left_index = True)\\\n",
    "                    .merge(X_train[['HasCrCard', 'Exited', 'IsActiveMember']], right_index = True, left_index = True)\n",
    "    num_test_df = std_scaled_test_data.merge(min_max_scaled_test_data, right_index = True, left_index = True)\\\n",
    "                    .merge(X_test[['HasCrCard', 'Exited', 'IsActiveMember']], right_index = True, left_index = True)\n",
    "    print(num_train_df.shape)\n",
    "\n",
    "    print(\"----------done-------------\")\n",
    "    print(\"case1\")\n",
    "#         return num_train_df\n",
    "\n",
    "if len(feats_min_max_scale) !=0 and len(feats_std_scale)==0: \n",
    "    print(\"----------done-------------\")\n",
    "    print(\"case2\")\n",
    "    num_train_df= min_max_scaled_data.merge(X_train[['HasCrCard', 'Exited', 'IsActiveMember']], right_index = True, left_index = True)\n",
    "    num_test_df= min_max_scaled_test_data.merge(X_test[['HasCrCard', 'Exited', 'IsActiveMember']], right_index = True, left_index = True)\n",
    "#         return num_train_df\n",
    "if len(feats_std_scale) !=0 and len(feats_min_max_scale)==0:\n",
    "    print(\"----------done-------------\")\n",
    "    print(\"case3\")\n",
    "    num_train_df= std_scaled_data.merge(X_train[['HasCrCard', 'Exited', 'IsActiveMember']], right_index = True, left_index = True)\n",
    "    num_test_df=std_scaled_test_data.merge(X_test[['HasCrCard', 'Exited', 'IsActiveMember']], right_index = True, left_index = True)\n",
    "#         return std_scaled_data\n",
    "\n"
   ]
  },
  {
   "cell_type": "code",
   "execution_count": 38,
   "metadata": {},
   "outputs": [
    {
     "data": {
      "text/html": [
       "<div>\n",
       "<style scoped>\n",
       "    .dataframe tbody tr th:only-of-type {\n",
       "        vertical-align: middle;\n",
       "    }\n",
       "\n",
       "    .dataframe tbody tr th {\n",
       "        vertical-align: top;\n",
       "    }\n",
       "\n",
       "    .dataframe thead th {\n",
       "        text-align: right;\n",
       "    }\n",
       "</style>\n",
       "<table border=\"1\" class=\"dataframe\">\n",
       "  <thead>\n",
       "    <tr style=\"text-align: right;\">\n",
       "      <th></th>\n",
       "      <th>HasCrCard</th>\n",
       "      <th>Exited</th>\n",
       "      <th>IsActiveMember</th>\n",
       "    </tr>\n",
       "  </thead>\n",
       "  <tbody>\n",
       "    <tr>\n",
       "      <th>5516</th>\n",
       "      <td>1</td>\n",
       "      <td>0</td>\n",
       "      <td>1</td>\n",
       "    </tr>\n",
       "    <tr>\n",
       "      <th>1255</th>\n",
       "      <td>1</td>\n",
       "      <td>0</td>\n",
       "      <td>1</td>\n",
       "    </tr>\n",
       "    <tr>\n",
       "      <th>4319</th>\n",
       "      <td>1</td>\n",
       "      <td>0</td>\n",
       "      <td>0</td>\n",
       "    </tr>\n",
       "    <tr>\n",
       "      <th>9372</th>\n",
       "      <td>0</td>\n",
       "      <td>0</td>\n",
       "      <td>1</td>\n",
       "    </tr>\n",
       "    <tr>\n",
       "      <th>1723</th>\n",
       "      <td>1</td>\n",
       "      <td>0</td>\n",
       "      <td>0</td>\n",
       "    </tr>\n",
       "    <tr>\n",
       "      <th>...</th>\n",
       "      <td>...</td>\n",
       "      <td>...</td>\n",
       "      <td>...</td>\n",
       "    </tr>\n",
       "    <tr>\n",
       "      <th>6384</th>\n",
       "      <td>1</td>\n",
       "      <td>0</td>\n",
       "      <td>1</td>\n",
       "    </tr>\n",
       "    <tr>\n",
       "      <th>4720</th>\n",
       "      <td>0</td>\n",
       "      <td>0</td>\n",
       "      <td>1</td>\n",
       "    </tr>\n",
       "    <tr>\n",
       "      <th>173</th>\n",
       "      <td>1</td>\n",
       "      <td>0</td>\n",
       "      <td>0</td>\n",
       "    </tr>\n",
       "    <tr>\n",
       "      <th>1244</th>\n",
       "      <td>0</td>\n",
       "      <td>0</td>\n",
       "      <td>0</td>\n",
       "    </tr>\n",
       "    <tr>\n",
       "      <th>4989</th>\n",
       "      <td>1</td>\n",
       "      <td>0</td>\n",
       "      <td>0</td>\n",
       "    </tr>\n",
       "  </tbody>\n",
       "</table>\n",
       "<p>8000 rows × 3 columns</p>\n",
       "</div>"
      ],
      "text/plain": [
       "      HasCrCard  Exited  IsActiveMember\n",
       "5516          1       0               1\n",
       "1255          1       0               1\n",
       "4319          1       0               0\n",
       "9372          0       0               1\n",
       "1723          1       0               0\n",
       "...         ...     ...             ...\n",
       "6384          1       0               1\n",
       "4720          0       0               1\n",
       "173           1       0               0\n",
       "1244          0       0               0\n",
       "4989          1       0               0\n",
       "\n",
       "[8000 rows x 3 columns]"
      ]
     },
     "execution_count": 38,
     "metadata": {},
     "output_type": "execute_result"
    }
   ],
   "source": [
    "X_train[['HasCrCard', 'Exited', 'IsActiveMember']]"
   ]
  },
  {
   "cell_type": "code",
   "execution_count": 39,
   "metadata": {},
   "outputs": [
    {
     "data": {
      "text/html": [
       "<div>\n",
       "<style scoped>\n",
       "    .dataframe tbody tr th:only-of-type {\n",
       "        vertical-align: middle;\n",
       "    }\n",
       "\n",
       "    .dataframe tbody tr th {\n",
       "        vertical-align: top;\n",
       "    }\n",
       "\n",
       "    .dataframe thead th {\n",
       "        text-align: right;\n",
       "    }\n",
       "</style>\n",
       "<table border=\"1\" class=\"dataframe\">\n",
       "  <thead>\n",
       "    <tr style=\"text-align: right;\">\n",
       "      <th></th>\n",
       "      <th>CustomerId</th>\n",
       "      <th>Surname</th>\n",
       "      <th>CreditScore</th>\n",
       "      <th>Geography</th>\n",
       "      <th>Gender</th>\n",
       "      <th>Age</th>\n",
       "      <th>Tenure</th>\n",
       "      <th>Balance</th>\n",
       "      <th>NumOfProducts</th>\n",
       "      <th>HasCrCard</th>\n",
       "      <th>IsActiveMember</th>\n",
       "      <th>EstimatedSalary</th>\n",
       "      <th>Exited</th>\n",
       "    </tr>\n",
       "  </thead>\n",
       "  <tbody>\n",
       "    <tr>\n",
       "      <th>5516</th>\n",
       "      <td>15569878</td>\n",
       "      <td>Dale</td>\n",
       "      <td>592</td>\n",
       "      <td>France</td>\n",
       "      <td>Male</td>\n",
       "      <td>3.637586</td>\n",
       "      <td>3</td>\n",
       "      <td>96651.03</td>\n",
       "      <td>1</td>\n",
       "      <td>1</td>\n",
       "      <td>1</td>\n",
       "      <td>3232.82</td>\n",
       "      <td>0</td>\n",
       "    </tr>\n",
       "    <tr>\n",
       "      <th>1255</th>\n",
       "      <td>15615032</td>\n",
       "      <td>Peng</td>\n",
       "      <td>624</td>\n",
       "      <td>Spain</td>\n",
       "      <td>Male</td>\n",
       "      <td>3.850148</td>\n",
       "      <td>3</td>\n",
       "      <td>0.00</td>\n",
       "      <td>2</td>\n",
       "      <td>1</td>\n",
       "      <td>1</td>\n",
       "      <td>62825.03</td>\n",
       "      <td>0</td>\n",
       "    </tr>\n",
       "    <tr>\n",
       "      <th>4319</th>\n",
       "      <td>15759456</td>\n",
       "      <td>Lupton</td>\n",
       "      <td>609</td>\n",
       "      <td>Spain</td>\n",
       "      <td>Male</td>\n",
       "      <td>3.555348</td>\n",
       "      <td>7</td>\n",
       "      <td>140694.78</td>\n",
       "      <td>2</td>\n",
       "      <td>1</td>\n",
       "      <td>0</td>\n",
       "      <td>46266.63</td>\n",
       "      <td>0</td>\n",
       "    </tr>\n",
       "    <tr>\n",
       "      <th>9372</th>\n",
       "      <td>15775826</td>\n",
       "      <td>Iadanza</td>\n",
       "      <td>677</td>\n",
       "      <td>France</td>\n",
       "      <td>Male</td>\n",
       "      <td>3.433987</td>\n",
       "      <td>1</td>\n",
       "      <td>78133.15</td>\n",
       "      <td>1</td>\n",
       "      <td>0</td>\n",
       "      <td>1</td>\n",
       "      <td>174225.88</td>\n",
       "      <td>0</td>\n",
       "    </tr>\n",
       "    <tr>\n",
       "      <th>1723</th>\n",
       "      <td>15567422</td>\n",
       "      <td>Chiazagomekpele</td>\n",
       "      <td>630</td>\n",
       "      <td>France</td>\n",
       "      <td>Male</td>\n",
       "      <td>3.761200</td>\n",
       "      <td>6</td>\n",
       "      <td>0.00</td>\n",
       "      <td>2</td>\n",
       "      <td>1</td>\n",
       "      <td>0</td>\n",
       "      <td>162697.93</td>\n",
       "      <td>0</td>\n",
       "    </tr>\n",
       "    <tr>\n",
       "      <th>...</th>\n",
       "      <td>...</td>\n",
       "      <td>...</td>\n",
       "      <td>...</td>\n",
       "      <td>...</td>\n",
       "      <td>...</td>\n",
       "      <td>...</td>\n",
       "      <td>...</td>\n",
       "      <td>...</td>\n",
       "      <td>...</td>\n",
       "      <td>...</td>\n",
       "      <td>...</td>\n",
       "      <td>...</td>\n",
       "      <td>...</td>\n",
       "    </tr>\n",
       "    <tr>\n",
       "      <th>6384</th>\n",
       "      <td>15812073</td>\n",
       "      <td>Palmer</td>\n",
       "      <td>529</td>\n",
       "      <td>France</td>\n",
       "      <td>Female</td>\n",
       "      <td>3.465736</td>\n",
       "      <td>7</td>\n",
       "      <td>0.00</td>\n",
       "      <td>2</td>\n",
       "      <td>1</td>\n",
       "      <td>1</td>\n",
       "      <td>175697.87</td>\n",
       "      <td>0</td>\n",
       "    </tr>\n",
       "    <tr>\n",
       "      <th>4720</th>\n",
       "      <td>15780654</td>\n",
       "      <td>Sergeyev</td>\n",
       "      <td>619</td>\n",
       "      <td>Germany</td>\n",
       "      <td>Female</td>\n",
       "      <td>3.526361</td>\n",
       "      <td>3</td>\n",
       "      <td>100488.92</td>\n",
       "      <td>2</td>\n",
       "      <td>0</td>\n",
       "      <td>1</td>\n",
       "      <td>36446.74</td>\n",
       "      <td>0</td>\n",
       "    </tr>\n",
       "    <tr>\n",
       "      <th>173</th>\n",
       "      <td>15586310</td>\n",
       "      <td>Ting</td>\n",
       "      <td>578</td>\n",
       "      <td>France</td>\n",
       "      <td>Male</td>\n",
       "      <td>3.433987</td>\n",
       "      <td>4</td>\n",
       "      <td>169462.09</td>\n",
       "      <td>1</td>\n",
       "      <td>1</td>\n",
       "      <td>0</td>\n",
       "      <td>112187.11</td>\n",
       "      <td>0</td>\n",
       "    </tr>\n",
       "    <tr>\n",
       "      <th>1244</th>\n",
       "      <td>15616709</td>\n",
       "      <td>Bunton</td>\n",
       "      <td>587</td>\n",
       "      <td>Germany</td>\n",
       "      <td>Female</td>\n",
       "      <td>3.663562</td>\n",
       "      <td>0</td>\n",
       "      <td>132122.42</td>\n",
       "      <td>2</td>\n",
       "      <td>0</td>\n",
       "      <td>0</td>\n",
       "      <td>31730.32</td>\n",
       "      <td>0</td>\n",
       "    </tr>\n",
       "    <tr>\n",
       "      <th>4989</th>\n",
       "      <td>15602851</td>\n",
       "      <td>Ozioma</td>\n",
       "      <td>629</td>\n",
       "      <td>France</td>\n",
       "      <td>Male</td>\n",
       "      <td>3.713572</td>\n",
       "      <td>9</td>\n",
       "      <td>0.00</td>\n",
       "      <td>1</td>\n",
       "      <td>1</td>\n",
       "      <td>0</td>\n",
       "      <td>106.67</td>\n",
       "      <td>0</td>\n",
       "    </tr>\n",
       "  </tbody>\n",
       "</table>\n",
       "<p>8000 rows × 13 columns</p>\n",
       "</div>"
      ],
      "text/plain": [
       "      CustomerId          Surname  CreditScore Geography  Gender       Age  \\\n",
       "5516    15569878             Dale          592    France    Male  3.637586   \n",
       "1255    15615032             Peng          624     Spain    Male  3.850148   \n",
       "4319    15759456           Lupton          609     Spain    Male  3.555348   \n",
       "9372    15775826          Iadanza          677    France    Male  3.433987   \n",
       "1723    15567422  Chiazagomekpele          630    France    Male  3.761200   \n",
       "...          ...              ...          ...       ...     ...       ...   \n",
       "6384    15812073           Palmer          529    France  Female  3.465736   \n",
       "4720    15780654         Sergeyev          619   Germany  Female  3.526361   \n",
       "173     15586310             Ting          578    France    Male  3.433987   \n",
       "1244    15616709           Bunton          587   Germany  Female  3.663562   \n",
       "4989    15602851           Ozioma          629    France    Male  3.713572   \n",
       "\n",
       "      Tenure    Balance  NumOfProducts  HasCrCard  IsActiveMember  \\\n",
       "5516       3   96651.03              1          1               1   \n",
       "1255       3       0.00              2          1               1   \n",
       "4319       7  140694.78              2          1               0   \n",
       "9372       1   78133.15              1          0               1   \n",
       "1723       6       0.00              2          1               0   \n",
       "...      ...        ...            ...        ...             ...   \n",
       "6384       7       0.00              2          1               1   \n",
       "4720       3  100488.92              2          0               1   \n",
       "173        4  169462.09              1          1               0   \n",
       "1244       0  132122.42              2          0               0   \n",
       "4989       9       0.00              1          1               0   \n",
       "\n",
       "      EstimatedSalary  Exited  \n",
       "5516          3232.82       0  \n",
       "1255         62825.03       0  \n",
       "4319         46266.63       0  \n",
       "9372        174225.88       0  \n",
       "1723        162697.93       0  \n",
       "...               ...     ...  \n",
       "6384        175697.87       0  \n",
       "4720         36446.74       0  \n",
       "173         112187.11       0  \n",
       "1244         31730.32       0  \n",
       "4989           106.67       0  \n",
       "\n",
       "[8000 rows x 13 columns]"
      ]
     },
     "execution_count": 39,
     "metadata": {},
     "output_type": "execute_result"
    }
   ],
   "source": [
    "X_train"
   ]
  },
  {
   "cell_type": "code",
   "execution_count": 40,
   "metadata": {},
   "outputs": [
    {
     "data": {
      "text/html": [
       "<div>\n",
       "<style scoped>\n",
       "    .dataframe tbody tr th:only-of-type {\n",
       "        vertical-align: middle;\n",
       "    }\n",
       "\n",
       "    .dataframe tbody tr th {\n",
       "        vertical-align: top;\n",
       "    }\n",
       "\n",
       "    .dataframe thead th {\n",
       "        text-align: right;\n",
       "    }\n",
       "</style>\n",
       "<table border=\"1\" class=\"dataframe\">\n",
       "  <thead>\n",
       "    <tr style=\"text-align: right;\">\n",
       "      <th></th>\n",
       "      <th>Age</th>\n",
       "      <th>CreditScore</th>\n",
       "    </tr>\n",
       "  </thead>\n",
       "  <tbody>\n",
       "    <tr>\n",
       "      <th>0</th>\n",
       "      <td>-0.066483</td>\n",
       "      <td>-0.609957</td>\n",
       "    </tr>\n",
       "    <tr>\n",
       "      <th>1</th>\n",
       "      <td>0.775196</td>\n",
       "      <td>-0.278558</td>\n",
       "    </tr>\n",
       "    <tr>\n",
       "      <th>2</th>\n",
       "      <td>-0.392121</td>\n",
       "      <td>-0.433901</td>\n",
       "    </tr>\n",
       "    <tr>\n",
       "      <th>3</th>\n",
       "      <td>-0.872673</td>\n",
       "      <td>0.270320</td>\n",
       "    </tr>\n",
       "    <tr>\n",
       "      <th>4</th>\n",
       "      <td>0.422991</td>\n",
       "      <td>-0.216421</td>\n",
       "    </tr>\n",
       "    <tr>\n",
       "      <th>...</th>\n",
       "      <td>...</td>\n",
       "      <td>...</td>\n",
       "    </tr>\n",
       "    <tr>\n",
       "      <th>7995</th>\n",
       "      <td>-0.746958</td>\n",
       "      <td>-1.262397</td>\n",
       "    </tr>\n",
       "    <tr>\n",
       "      <th>7996</th>\n",
       "      <td>-0.506902</td>\n",
       "      <td>-0.330339</td>\n",
       "    </tr>\n",
       "    <tr>\n",
       "      <th>7997</th>\n",
       "      <td>-0.872673</td>\n",
       "      <td>-0.754943</td>\n",
       "    </tr>\n",
       "    <tr>\n",
       "      <th>7998</th>\n",
       "      <td>0.036372</td>\n",
       "      <td>-0.661738</td>\n",
       "    </tr>\n",
       "    <tr>\n",
       "      <th>7999</th>\n",
       "      <td>0.234399</td>\n",
       "      <td>-0.226777</td>\n",
       "    </tr>\n",
       "  </tbody>\n",
       "</table>\n",
       "<p>8000 rows × 2 columns</p>\n",
       "</div>"
      ],
      "text/plain": [
       "           Age  CreditScore\n",
       "0    -0.066483    -0.609957\n",
       "1     0.775196    -0.278558\n",
       "2    -0.392121    -0.433901\n",
       "3    -0.872673     0.270320\n",
       "4     0.422991    -0.216421\n",
       "...        ...          ...\n",
       "7995 -0.746958    -1.262397\n",
       "7996 -0.506902    -0.330339\n",
       "7997 -0.872673    -0.754943\n",
       "7998  0.036372    -0.661738\n",
       "7999  0.234399    -0.226777\n",
       "\n",
       "[8000 rows x 2 columns]"
      ]
     },
     "execution_count": 40,
     "metadata": {},
     "output_type": "execute_result"
    }
   ],
   "source": [
    "std_scaled_data"
   ]
  },
  {
   "cell_type": "code",
   "execution_count": 41,
   "metadata": {},
   "outputs": [
    {
     "data": {
      "text/plain": [
       "(6409, 9)"
      ]
     },
     "execution_count": 41,
     "metadata": {},
     "output_type": "execute_result"
    }
   ],
   "source": [
    "num_train_df.shape"
   ]
  },
  {
   "cell_type": "code",
   "execution_count": 42,
   "metadata": {},
   "outputs": [
    {
     "data": {
      "text/plain": [
       "(6409, 9)"
      ]
     },
     "execution_count": 42,
     "metadata": {},
     "output_type": "execute_result"
    }
   ],
   "source": [
    "num_train_df.shape"
   ]
  },
  {
   "cell_type": "code",
   "execution_count": 43,
   "metadata": {
    "scrolled": false
   },
   "outputs": [
    {
     "data": {
      "text/plain": [
       "5516               Dale\n",
       "1255               Peng\n",
       "4319             Lupton\n",
       "9372            Iadanza\n",
       "1723    Chiazagomekpele\n",
       "             ...       \n",
       "6384             Palmer\n",
       "4720           Sergeyev\n",
       "173                Ting\n",
       "1244             Bunton\n",
       "4989             Ozioma\n",
       "Name: Surname, Length: 8000, dtype: object"
      ]
     },
     "execution_count": 43,
     "metadata": {},
     "output_type": "execute_result"
    }
   ],
   "source": [
    "X_train[\"Surname\"]"
   ]
  },
  {
   "cell_type": "code",
   "execution_count": 44,
   "metadata": {},
   "outputs": [
    {
     "data": {
      "text/plain": [
       "(8000, 13)"
      ]
     },
     "execution_count": 44,
     "metadata": {},
     "output_type": "execute_result"
    }
   ],
   "source": [
    "X_train.shape"
   ]
  },
  {
   "cell_type": "code",
   "execution_count": 45,
   "metadata": {},
   "outputs": [
    {
     "data": {
      "text/plain": [
       "(2000, 13)"
      ]
     },
     "execution_count": 45,
     "metadata": {},
     "output_type": "execute_result"
    }
   ],
   "source": [
    "X_test.shape"
   ]
  },
  {
   "cell_type": "code",
   "execution_count": 46,
   "metadata": {},
   "outputs": [],
   "source": [
    "# label encoding of the Gender\n",
    "\n",
    "label_enc_model = LabelEncoder().fit(X_train['Gender'])\n",
    "X_train['Gender'] = label_enc_model.transform(X_train['Gender'])\n",
    "X_test['Gender'] = label_enc_model.transform(X_test['Gender'])\n",
    "\n",
    "one_hot_enc_model = OneHotEncoder(sparse = False).fit(X_train[['Geography']])\n",
    "ohe_train_data = one_hot_enc_model.transform(X_train[['Geography']])\n",
    "ohe_test_data = one_hot_enc_model.transform(X_test[['Geography']])\n",
    "\n",
    "a=one_hot_enc_model.categories_\n",
    "col_names=[]\n",
    "for list_ in a:\n",
    "    for element in list_:\n",
    "        col_names.append(element)\n",
    "\n",
    "nominal_train_df = pd.DataFrame(ohe_train_data, columns = col_names)\n",
    "nominal_test_df = pd.DataFrame(ohe_test_data, columns = col_names)"
   ]
  },
  {
   "cell_type": "code",
   "execution_count": 47,
   "metadata": {},
   "outputs": [
    {
     "data": {
      "text/html": [
       "<div>\n",
       "<style scoped>\n",
       "    .dataframe tbody tr th:only-of-type {\n",
       "        vertical-align: middle;\n",
       "    }\n",
       "\n",
       "    .dataframe tbody tr th {\n",
       "        vertical-align: top;\n",
       "    }\n",
       "\n",
       "    .dataframe thead th {\n",
       "        text-align: right;\n",
       "    }\n",
       "</style>\n",
       "<table border=\"1\" class=\"dataframe\">\n",
       "  <thead>\n",
       "    <tr style=\"text-align: right;\">\n",
       "      <th></th>\n",
       "      <th>France</th>\n",
       "      <th>Germany</th>\n",
       "      <th>Spain</th>\n",
       "    </tr>\n",
       "  </thead>\n",
       "  <tbody>\n",
       "    <tr>\n",
       "      <th>0</th>\n",
       "      <td>1.0</td>\n",
       "      <td>0.0</td>\n",
       "      <td>0.0</td>\n",
       "    </tr>\n",
       "    <tr>\n",
       "      <th>1</th>\n",
       "      <td>0.0</td>\n",
       "      <td>0.0</td>\n",
       "      <td>1.0</td>\n",
       "    </tr>\n",
       "    <tr>\n",
       "      <th>2</th>\n",
       "      <td>0.0</td>\n",
       "      <td>0.0</td>\n",
       "      <td>1.0</td>\n",
       "    </tr>\n",
       "    <tr>\n",
       "      <th>3</th>\n",
       "      <td>1.0</td>\n",
       "      <td>0.0</td>\n",
       "      <td>0.0</td>\n",
       "    </tr>\n",
       "    <tr>\n",
       "      <th>4</th>\n",
       "      <td>1.0</td>\n",
       "      <td>0.0</td>\n",
       "      <td>0.0</td>\n",
       "    </tr>\n",
       "    <tr>\n",
       "      <th>...</th>\n",
       "      <td>...</td>\n",
       "      <td>...</td>\n",
       "      <td>...</td>\n",
       "    </tr>\n",
       "    <tr>\n",
       "      <th>7995</th>\n",
       "      <td>1.0</td>\n",
       "      <td>0.0</td>\n",
       "      <td>0.0</td>\n",
       "    </tr>\n",
       "    <tr>\n",
       "      <th>7996</th>\n",
       "      <td>0.0</td>\n",
       "      <td>1.0</td>\n",
       "      <td>0.0</td>\n",
       "    </tr>\n",
       "    <tr>\n",
       "      <th>7997</th>\n",
       "      <td>1.0</td>\n",
       "      <td>0.0</td>\n",
       "      <td>0.0</td>\n",
       "    </tr>\n",
       "    <tr>\n",
       "      <th>7998</th>\n",
       "      <td>0.0</td>\n",
       "      <td>1.0</td>\n",
       "      <td>0.0</td>\n",
       "    </tr>\n",
       "    <tr>\n",
       "      <th>7999</th>\n",
       "      <td>1.0</td>\n",
       "      <td>0.0</td>\n",
       "      <td>0.0</td>\n",
       "    </tr>\n",
       "  </tbody>\n",
       "</table>\n",
       "<p>8000 rows × 3 columns</p>\n",
       "</div>"
      ],
      "text/plain": [
       "      France  Germany  Spain\n",
       "0        1.0      0.0    0.0\n",
       "1        0.0      0.0    1.0\n",
       "2        0.0      0.0    1.0\n",
       "3        1.0      0.0    0.0\n",
       "4        1.0      0.0    0.0\n",
       "...      ...      ...    ...\n",
       "7995     1.0      0.0    0.0\n",
       "7996     0.0      1.0    0.0\n",
       "7997     1.0      0.0    0.0\n",
       "7998     0.0      1.0    0.0\n",
       "7999     1.0      0.0    0.0\n",
       "\n",
       "[8000 rows x 3 columns]"
      ]
     },
     "execution_count": 47,
     "metadata": {},
     "output_type": "execute_result"
    }
   ],
   "source": [
    "nominal_train_df"
   ]
  },
  {
   "cell_type": "code",
   "execution_count": 48,
   "metadata": {},
   "outputs": [],
   "source": [
    "nominal_train_df = nominal_train_df.merge(X_train[['Gender',\"Surname\"]], right_index = True, left_index = True)\n",
    "nominal_test_df = nominal_test_df.merge(X_test[['Gender',\"Surname\"]], right_index = True, left_index = True)"
   ]
  },
  {
   "cell_type": "code",
   "execution_count": 49,
   "metadata": {},
   "outputs": [
    {
     "data": {
      "text/plain": [
       "(6409, 5)"
      ]
     },
     "execution_count": 49,
     "metadata": {},
     "output_type": "execute_result"
    }
   ],
   "source": [
    "nominal_train_df.shape"
   ]
  },
  {
   "cell_type": "code",
   "execution_count": 50,
   "metadata": {},
   "outputs": [
    {
     "data": {
      "text/plain": [
       "(397, 5)"
      ]
     },
     "execution_count": 50,
     "metadata": {},
     "output_type": "execute_result"
    }
   ],
   "source": [
    "nominal_test_df.shape"
   ]
  },
  {
   "cell_type": "code",
   "execution_count": 51,
   "metadata": {},
   "outputs": [],
   "source": [
    "final_train_data = nominal_train_df.merge(num_train_df, right_index = True, left_index = True, how = 'inner')\n",
    "\n",
    "final_test_data = nominal_test_df.merge(num_test_df, right_index = True, left_index = True, how = 'inner')"
   ]
  },
  {
   "cell_type": "code",
   "execution_count": 52,
   "metadata": {},
   "outputs": [
    {
     "data": {
      "text/plain": [
       "(6409, 14)"
      ]
     },
     "execution_count": 52,
     "metadata": {},
     "output_type": "execute_result"
    }
   ],
   "source": [
    "final_train_data.shape"
   ]
  },
  {
   "cell_type": "code",
   "execution_count": 53,
   "metadata": {
    "scrolled": true
   },
   "outputs": [
    {
     "data": {
      "text/plain": [
       "(397, 14)"
      ]
     },
     "execution_count": 53,
     "metadata": {},
     "output_type": "execute_result"
    }
   ],
   "source": [
    "final_test_data.shape"
   ]
  },
  {
   "cell_type": "code",
   "execution_count": 54,
   "metadata": {},
   "outputs": [
    {
     "data": {
      "text/html": [
       "<div>\n",
       "<style scoped>\n",
       "    .dataframe tbody tr th:only-of-type {\n",
       "        vertical-align: middle;\n",
       "    }\n",
       "\n",
       "    .dataframe tbody tr th {\n",
       "        vertical-align: top;\n",
       "    }\n",
       "\n",
       "    .dataframe thead th {\n",
       "        text-align: right;\n",
       "    }\n",
       "</style>\n",
       "<table border=\"1\" class=\"dataframe\">\n",
       "  <thead>\n",
       "    <tr style=\"text-align: right;\">\n",
       "      <th></th>\n",
       "      <th>France</th>\n",
       "      <th>Germany</th>\n",
       "      <th>Spain</th>\n",
       "      <th>Gender</th>\n",
       "      <th>Surname</th>\n",
       "      <th>Age</th>\n",
       "      <th>CreditScore</th>\n",
       "      <th>Tenure</th>\n",
       "      <th>NumOfProducts</th>\n",
       "      <th>EstimatedSalary</th>\n",
       "      <th>Balance</th>\n",
       "      <th>HasCrCard</th>\n",
       "      <th>Exited</th>\n",
       "      <th>IsActiveMember</th>\n",
       "    </tr>\n",
       "  </thead>\n",
       "  <tbody>\n",
       "    <tr>\n",
       "      <th>22</th>\n",
       "      <td>1.0</td>\n",
       "      <td>0.0</td>\n",
       "      <td>0.0</td>\n",
       "      <td>0</td>\n",
       "      <td>Gerasimov</td>\n",
       "      <td>1.250931</td>\n",
       "      <td>0.643143</td>\n",
       "      <td>0.0</td>\n",
       "      <td>0.000000</td>\n",
       "      <td>0.231812</td>\n",
       "      <td>0.740905</td>\n",
       "      <td>1</td>\n",
       "      <td>1</td>\n",
       "      <td>0</td>\n",
       "    </tr>\n",
       "    <tr>\n",
       "      <th>25</th>\n",
       "      <td>1.0</td>\n",
       "      <td>0.0</td>\n",
       "      <td>0.0</td>\n",
       "      <td>1</td>\n",
       "      <td>Maclean</td>\n",
       "      <td>-0.280572</td>\n",
       "      <td>-1.003492</td>\n",
       "      <td>0.6</td>\n",
       "      <td>0.333333</td>\n",
       "      <td>0.476373</td>\n",
       "      <td>0.469143</td>\n",
       "      <td>0</td>\n",
       "      <td>0</td>\n",
       "      <td>1</td>\n",
       "    </tr>\n",
       "    <tr>\n",
       "      <th>28</th>\n",
       "      <td>1.0</td>\n",
       "      <td>0.0</td>\n",
       "      <td>0.0</td>\n",
       "      <td>0</td>\n",
       "      <td>McWilliams</td>\n",
       "      <td>-0.066483</td>\n",
       "      <td>0.860623</td>\n",
       "      <td>0.3</td>\n",
       "      <td>0.000000</td>\n",
       "      <td>0.386342</td>\n",
       "      <td>0.320400</td>\n",
       "      <td>1</td>\n",
       "      <td>0</td>\n",
       "      <td>1</td>\n",
       "    </tr>\n",
       "    <tr>\n",
       "      <th>29</th>\n",
       "      <td>1.0</td>\n",
       "      <td>0.0</td>\n",
       "      <td>0.0</td>\n",
       "      <td>1</td>\n",
       "      <td>Lucciano</td>\n",
       "      <td>0.858561</td>\n",
       "      <td>0.446375</td>\n",
       "      <td>0.4</td>\n",
       "      <td>0.333333</td>\n",
       "      <td>0.987680</td>\n",
       "      <td>0.000000</td>\n",
       "      <td>1</td>\n",
       "      <td>0</td>\n",
       "      <td>1</td>\n",
       "    </tr>\n",
       "    <tr>\n",
       "      <th>35</th>\n",
       "      <td>1.0</td>\n",
       "      <td>0.0</td>\n",
       "      <td>0.0</td>\n",
       "      <td>0</td>\n",
       "      <td>Lombardo</td>\n",
       "      <td>2.572572</td>\n",
       "      <td>-1.583439</td>\n",
       "      <td>0.2</td>\n",
       "      <td>0.333333</td>\n",
       "      <td>0.827061</td>\n",
       "      <td>0.678529</td>\n",
       "      <td>1</td>\n",
       "      <td>1</td>\n",
       "      <td>0</td>\n",
       "    </tr>\n",
       "    <tr>\n",
       "      <th>...</th>\n",
       "      <td>...</td>\n",
       "      <td>...</td>\n",
       "      <td>...</td>\n",
       "      <td>...</td>\n",
       "      <td>...</td>\n",
       "      <td>...</td>\n",
       "      <td>...</td>\n",
       "      <td>...</td>\n",
       "      <td>...</td>\n",
       "      <td>...</td>\n",
       "      <td>...</td>\n",
       "      <td>...</td>\n",
       "      <td>...</td>\n",
       "      <td>...</td>\n",
       "    </tr>\n",
       "    <tr>\n",
       "      <th>1977</th>\n",
       "      <td>1.0</td>\n",
       "      <td>0.0</td>\n",
       "      <td>0.0</td>\n",
       "      <td>1</td>\n",
       "      <td>Johnson</td>\n",
       "      <td>0.036372</td>\n",
       "      <td>-0.050722</td>\n",
       "      <td>0.2</td>\n",
       "      <td>0.333333</td>\n",
       "      <td>0.893791</td>\n",
       "      <td>0.000000</td>\n",
       "      <td>0</td>\n",
       "      <td>1</td>\n",
       "      <td>0</td>\n",
       "    </tr>\n",
       "    <tr>\n",
       "      <th>1982</th>\n",
       "      <td>0.0</td>\n",
       "      <td>0.0</td>\n",
       "      <td>1.0</td>\n",
       "      <td>1</td>\n",
       "      <td>Phillips</td>\n",
       "      <td>0.858561</td>\n",
       "      <td>1.243802</td>\n",
       "      <td>0.3</td>\n",
       "      <td>0.333333</td>\n",
       "      <td>0.539366</td>\n",
       "      <td>0.289616</td>\n",
       "      <td>1</td>\n",
       "      <td>0</td>\n",
       "      <td>0</td>\n",
       "    </tr>\n",
       "    <tr>\n",
       "      <th>1986</th>\n",
       "      <td>0.0</td>\n",
       "      <td>0.0</td>\n",
       "      <td>1.0</td>\n",
       "      <td>0</td>\n",
       "      <td>Lu</td>\n",
       "      <td>0.775196</td>\n",
       "      <td>0.725993</td>\n",
       "      <td>0.7</td>\n",
       "      <td>0.000000</td>\n",
       "      <td>0.339857</td>\n",
       "      <td>0.549759</td>\n",
       "      <td>0</td>\n",
       "      <td>0</td>\n",
       "      <td>0</td>\n",
       "    </tr>\n",
       "    <tr>\n",
       "      <th>1987</th>\n",
       "      <td>0.0</td>\n",
       "      <td>1.0</td>\n",
       "      <td>0.0</td>\n",
       "      <td>1</td>\n",
       "      <td>Yamamoto</td>\n",
       "      <td>0.690038</td>\n",
       "      <td>-2.277304</td>\n",
       "      <td>0.5</td>\n",
       "      <td>0.333333</td>\n",
       "      <td>0.184458</td>\n",
       "      <td>0.333301</td>\n",
       "      <td>0</td>\n",
       "      <td>1</td>\n",
       "      <td>1</td>\n",
       "    </tr>\n",
       "    <tr>\n",
       "      <th>1995</th>\n",
       "      <td>1.0</td>\n",
       "      <td>0.0</td>\n",
       "      <td>0.0</td>\n",
       "      <td>0</td>\n",
       "      <td>Mikkelsen</td>\n",
       "      <td>-0.746958</td>\n",
       "      <td>-0.454614</td>\n",
       "      <td>0.8</td>\n",
       "      <td>0.333333</td>\n",
       "      <td>0.215945</td>\n",
       "      <td>0.000000</td>\n",
       "      <td>1</td>\n",
       "      <td>0</td>\n",
       "      <td>1</td>\n",
       "    </tr>\n",
       "  </tbody>\n",
       "</table>\n",
       "<p>397 rows × 14 columns</p>\n",
       "</div>"
      ],
      "text/plain": [
       "      France  Germany  Spain  Gender     Surname       Age  CreditScore  \\\n",
       "22       1.0      0.0    0.0       0   Gerasimov  1.250931     0.643143   \n",
       "25       1.0      0.0    0.0       1     Maclean -0.280572    -1.003492   \n",
       "28       1.0      0.0    0.0       0  McWilliams -0.066483     0.860623   \n",
       "29       1.0      0.0    0.0       1    Lucciano  0.858561     0.446375   \n",
       "35       1.0      0.0    0.0       0    Lombardo  2.572572    -1.583439   \n",
       "...      ...      ...    ...     ...         ...       ...          ...   \n",
       "1977     1.0      0.0    0.0       1     Johnson  0.036372    -0.050722   \n",
       "1982     0.0      0.0    1.0       1    Phillips  0.858561     1.243802   \n",
       "1986     0.0      0.0    1.0       0          Lu  0.775196     0.725993   \n",
       "1987     0.0      1.0    0.0       1    Yamamoto  0.690038    -2.277304   \n",
       "1995     1.0      0.0    0.0       0   Mikkelsen -0.746958    -0.454614   \n",
       "\n",
       "      Tenure  NumOfProducts  EstimatedSalary   Balance  HasCrCard  Exited  \\\n",
       "22       0.0       0.000000         0.231812  0.740905          1       1   \n",
       "25       0.6       0.333333         0.476373  0.469143          0       0   \n",
       "28       0.3       0.000000         0.386342  0.320400          1       0   \n",
       "29       0.4       0.333333         0.987680  0.000000          1       0   \n",
       "35       0.2       0.333333         0.827061  0.678529          1       1   \n",
       "...      ...            ...              ...       ...        ...     ...   \n",
       "1977     0.2       0.333333         0.893791  0.000000          0       1   \n",
       "1982     0.3       0.333333         0.539366  0.289616          1       0   \n",
       "1986     0.7       0.000000         0.339857  0.549759          0       0   \n",
       "1987     0.5       0.333333         0.184458  0.333301          0       1   \n",
       "1995     0.8       0.333333         0.215945  0.000000          1       0   \n",
       "\n",
       "      IsActiveMember  \n",
       "22                 0  \n",
       "25                 1  \n",
       "28                 1  \n",
       "29                 1  \n",
       "35                 0  \n",
       "...              ...  \n",
       "1977               0  \n",
       "1982               0  \n",
       "1986               0  \n",
       "1987               1  \n",
       "1995               1  \n",
       "\n",
       "[397 rows x 14 columns]"
      ]
     },
     "execution_count": 54,
     "metadata": {},
     "output_type": "execute_result"
    }
   ],
   "source": [
    "final_test_data"
   ]
  },
  {
   "cell_type": "markdown",
   "metadata": {},
   "source": [
    "### `dealing with imbalance`"
   ]
  },
  {
   "cell_type": "code",
   "execution_count": 55,
   "metadata": {},
   "outputs": [],
   "source": [
    "rare_class_data = final_train_data[final_train_data['Exited'] == 1]\n",
    "dominant_class_data = final_train_data[final_train_data['Exited'] == 0]\n",
    "\n",
    "under_sampled_class = dominant_class_data.sample(frac = 0.25, replace = False, random_state = 2022)\n",
    "train_undersampled = pd.concat((under_sampled_class, rare_class_data), axis = 0)"
   ]
  },
  {
   "cell_type": "code",
   "execution_count": 56,
   "metadata": {
    "scrolled": true
   },
   "outputs": [
    {
     "data": {
      "text/plain": [
       "(2586, 14)"
      ]
     },
     "execution_count": 56,
     "metadata": {},
     "output_type": "execute_result"
    }
   ],
   "source": [
    "train_undersampled.shape"
   ]
  },
  {
   "cell_type": "code",
   "execution_count": 57,
   "metadata": {},
   "outputs": [
    {
     "data": {
      "text/html": [
       "<div>\n",
       "<style scoped>\n",
       "    .dataframe tbody tr th:only-of-type {\n",
       "        vertical-align: middle;\n",
       "    }\n",
       "\n",
       "    .dataframe tbody tr th {\n",
       "        vertical-align: top;\n",
       "    }\n",
       "\n",
       "    .dataframe thead th {\n",
       "        text-align: right;\n",
       "    }\n",
       "</style>\n",
       "<table border=\"1\" class=\"dataframe\">\n",
       "  <thead>\n",
       "    <tr style=\"text-align: right;\">\n",
       "      <th></th>\n",
       "      <th>France</th>\n",
       "      <th>Germany</th>\n",
       "      <th>Spain</th>\n",
       "      <th>Gender</th>\n",
       "      <th>Surname</th>\n",
       "      <th>Age</th>\n",
       "      <th>CreditScore</th>\n",
       "      <th>Tenure</th>\n",
       "      <th>NumOfProducts</th>\n",
       "      <th>EstimatedSalary</th>\n",
       "      <th>Balance</th>\n",
       "      <th>HasCrCard</th>\n",
       "      <th>Exited</th>\n",
       "      <th>IsActiveMember</th>\n",
       "    </tr>\n",
       "  </thead>\n",
       "  <tbody>\n",
       "    <tr>\n",
       "      <th>22</th>\n",
       "      <td>1.0</td>\n",
       "      <td>0.0</td>\n",
       "      <td>0.0</td>\n",
       "      <td>0</td>\n",
       "      <td>Gerasimov</td>\n",
       "      <td>1.250931</td>\n",
       "      <td>0.643143</td>\n",
       "      <td>0.0</td>\n",
       "      <td>0.000000</td>\n",
       "      <td>0.231812</td>\n",
       "      <td>0.740905</td>\n",
       "      <td>1</td>\n",
       "      <td>1</td>\n",
       "      <td>0</td>\n",
       "    </tr>\n",
       "    <tr>\n",
       "      <th>25</th>\n",
       "      <td>1.0</td>\n",
       "      <td>0.0</td>\n",
       "      <td>0.0</td>\n",
       "      <td>1</td>\n",
       "      <td>Maclean</td>\n",
       "      <td>-0.280572</td>\n",
       "      <td>-1.003492</td>\n",
       "      <td>0.6</td>\n",
       "      <td>0.333333</td>\n",
       "      <td>0.476373</td>\n",
       "      <td>0.469143</td>\n",
       "      <td>0</td>\n",
       "      <td>0</td>\n",
       "      <td>1</td>\n",
       "    </tr>\n",
       "    <tr>\n",
       "      <th>28</th>\n",
       "      <td>1.0</td>\n",
       "      <td>0.0</td>\n",
       "      <td>0.0</td>\n",
       "      <td>0</td>\n",
       "      <td>McWilliams</td>\n",
       "      <td>-0.066483</td>\n",
       "      <td>0.860623</td>\n",
       "      <td>0.3</td>\n",
       "      <td>0.000000</td>\n",
       "      <td>0.386342</td>\n",
       "      <td>0.320400</td>\n",
       "      <td>1</td>\n",
       "      <td>0</td>\n",
       "      <td>1</td>\n",
       "    </tr>\n",
       "    <tr>\n",
       "      <th>29</th>\n",
       "      <td>1.0</td>\n",
       "      <td>0.0</td>\n",
       "      <td>0.0</td>\n",
       "      <td>1</td>\n",
       "      <td>Lucciano</td>\n",
       "      <td>0.858561</td>\n",
       "      <td>0.446375</td>\n",
       "      <td>0.4</td>\n",
       "      <td>0.333333</td>\n",
       "      <td>0.987680</td>\n",
       "      <td>0.000000</td>\n",
       "      <td>1</td>\n",
       "      <td>0</td>\n",
       "      <td>1</td>\n",
       "    </tr>\n",
       "    <tr>\n",
       "      <th>35</th>\n",
       "      <td>1.0</td>\n",
       "      <td>0.0</td>\n",
       "      <td>0.0</td>\n",
       "      <td>0</td>\n",
       "      <td>Lombardo</td>\n",
       "      <td>2.572572</td>\n",
       "      <td>-1.583439</td>\n",
       "      <td>0.2</td>\n",
       "      <td>0.333333</td>\n",
       "      <td>0.827061</td>\n",
       "      <td>0.678529</td>\n",
       "      <td>1</td>\n",
       "      <td>1</td>\n",
       "      <td>0</td>\n",
       "    </tr>\n",
       "    <tr>\n",
       "      <th>...</th>\n",
       "      <td>...</td>\n",
       "      <td>...</td>\n",
       "      <td>...</td>\n",
       "      <td>...</td>\n",
       "      <td>...</td>\n",
       "      <td>...</td>\n",
       "      <td>...</td>\n",
       "      <td>...</td>\n",
       "      <td>...</td>\n",
       "      <td>...</td>\n",
       "      <td>...</td>\n",
       "      <td>...</td>\n",
       "      <td>...</td>\n",
       "      <td>...</td>\n",
       "    </tr>\n",
       "    <tr>\n",
       "      <th>1977</th>\n",
       "      <td>1.0</td>\n",
       "      <td>0.0</td>\n",
       "      <td>0.0</td>\n",
       "      <td>1</td>\n",
       "      <td>Johnson</td>\n",
       "      <td>0.036372</td>\n",
       "      <td>-0.050722</td>\n",
       "      <td>0.2</td>\n",
       "      <td>0.333333</td>\n",
       "      <td>0.893791</td>\n",
       "      <td>0.000000</td>\n",
       "      <td>0</td>\n",
       "      <td>1</td>\n",
       "      <td>0</td>\n",
       "    </tr>\n",
       "    <tr>\n",
       "      <th>1982</th>\n",
       "      <td>0.0</td>\n",
       "      <td>0.0</td>\n",
       "      <td>1.0</td>\n",
       "      <td>1</td>\n",
       "      <td>Phillips</td>\n",
       "      <td>0.858561</td>\n",
       "      <td>1.243802</td>\n",
       "      <td>0.3</td>\n",
       "      <td>0.333333</td>\n",
       "      <td>0.539366</td>\n",
       "      <td>0.289616</td>\n",
       "      <td>1</td>\n",
       "      <td>0</td>\n",
       "      <td>0</td>\n",
       "    </tr>\n",
       "    <tr>\n",
       "      <th>1986</th>\n",
       "      <td>0.0</td>\n",
       "      <td>0.0</td>\n",
       "      <td>1.0</td>\n",
       "      <td>0</td>\n",
       "      <td>Lu</td>\n",
       "      <td>0.775196</td>\n",
       "      <td>0.725993</td>\n",
       "      <td>0.7</td>\n",
       "      <td>0.000000</td>\n",
       "      <td>0.339857</td>\n",
       "      <td>0.549759</td>\n",
       "      <td>0</td>\n",
       "      <td>0</td>\n",
       "      <td>0</td>\n",
       "    </tr>\n",
       "    <tr>\n",
       "      <th>1987</th>\n",
       "      <td>0.0</td>\n",
       "      <td>1.0</td>\n",
       "      <td>0.0</td>\n",
       "      <td>1</td>\n",
       "      <td>Yamamoto</td>\n",
       "      <td>0.690038</td>\n",
       "      <td>-2.277304</td>\n",
       "      <td>0.5</td>\n",
       "      <td>0.333333</td>\n",
       "      <td>0.184458</td>\n",
       "      <td>0.333301</td>\n",
       "      <td>0</td>\n",
       "      <td>1</td>\n",
       "      <td>1</td>\n",
       "    </tr>\n",
       "    <tr>\n",
       "      <th>1995</th>\n",
       "      <td>1.0</td>\n",
       "      <td>0.0</td>\n",
       "      <td>0.0</td>\n",
       "      <td>0</td>\n",
       "      <td>Mikkelsen</td>\n",
       "      <td>-0.746958</td>\n",
       "      <td>-0.454614</td>\n",
       "      <td>0.8</td>\n",
       "      <td>0.333333</td>\n",
       "      <td>0.215945</td>\n",
       "      <td>0.000000</td>\n",
       "      <td>1</td>\n",
       "      <td>0</td>\n",
       "      <td>1</td>\n",
       "    </tr>\n",
       "  </tbody>\n",
       "</table>\n",
       "<p>397 rows × 14 columns</p>\n",
       "</div>"
      ],
      "text/plain": [
       "      France  Germany  Spain  Gender     Surname       Age  CreditScore  \\\n",
       "22       1.0      0.0    0.0       0   Gerasimov  1.250931     0.643143   \n",
       "25       1.0      0.0    0.0       1     Maclean -0.280572    -1.003492   \n",
       "28       1.0      0.0    0.0       0  McWilliams -0.066483     0.860623   \n",
       "29       1.0      0.0    0.0       1    Lucciano  0.858561     0.446375   \n",
       "35       1.0      0.0    0.0       0    Lombardo  2.572572    -1.583439   \n",
       "...      ...      ...    ...     ...         ...       ...          ...   \n",
       "1977     1.0      0.0    0.0       1     Johnson  0.036372    -0.050722   \n",
       "1982     0.0      0.0    1.0       1    Phillips  0.858561     1.243802   \n",
       "1986     0.0      0.0    1.0       0          Lu  0.775196     0.725993   \n",
       "1987     0.0      1.0    0.0       1    Yamamoto  0.690038    -2.277304   \n",
       "1995     1.0      0.0    0.0       0   Mikkelsen -0.746958    -0.454614   \n",
       "\n",
       "      Tenure  NumOfProducts  EstimatedSalary   Balance  HasCrCard  Exited  \\\n",
       "22       0.0       0.000000         0.231812  0.740905          1       1   \n",
       "25       0.6       0.333333         0.476373  0.469143          0       0   \n",
       "28       0.3       0.000000         0.386342  0.320400          1       0   \n",
       "29       0.4       0.333333         0.987680  0.000000          1       0   \n",
       "35       0.2       0.333333         0.827061  0.678529          1       1   \n",
       "...      ...            ...              ...       ...        ...     ...   \n",
       "1977     0.2       0.333333         0.893791  0.000000          0       1   \n",
       "1982     0.3       0.333333         0.539366  0.289616          1       0   \n",
       "1986     0.7       0.000000         0.339857  0.549759          0       0   \n",
       "1987     0.5       0.333333         0.184458  0.333301          0       1   \n",
       "1995     0.8       0.333333         0.215945  0.000000          1       0   \n",
       "\n",
       "      IsActiveMember  \n",
       "22                 0  \n",
       "25                 1  \n",
       "28                 1  \n",
       "29                 1  \n",
       "35                 0  \n",
       "...              ...  \n",
       "1977               0  \n",
       "1982               0  \n",
       "1986               0  \n",
       "1987               1  \n",
       "1995               1  \n",
       "\n",
       "[397 rows x 14 columns]"
      ]
     },
     "execution_count": 57,
     "metadata": {},
     "output_type": "execute_result"
    }
   ],
   "source": [
    "final_test_data"
   ]
  },
  {
   "cell_type": "code",
   "execution_count": 58,
   "metadata": {},
   "outputs": [],
   "source": [
    "# final_train_data, final_test_data\n",
    "X_train_f = train_undersampled.drop(columns =['Exited'])\n",
    "y_train_f = train_undersampled[['Exited']]\n",
    "\n",
    "X_test_f = final_test_data.drop(columns =['Exited'])\n",
    "y_test_f = final_test_data[['Exited']]"
   ]
  },
  {
   "cell_type": "code",
   "execution_count": 59,
   "metadata": {},
   "outputs": [],
   "source": [
    "# final_train_data, final_test_data\n",
    "X_train = train_undersampled.drop(columns =['Exited',\"Surname\"]).values\n",
    "y_train = train_undersampled[['Exited']].values\n",
    "\n",
    "X_test = final_test_data.drop(columns =['Exited',\"Surname\"]).values\n",
    "y_test = final_test_data[['Exited']].values"
   ]
  },
  {
   "cell_type": "code",
   "execution_count": 60,
   "metadata": {},
   "outputs": [
    {
     "data": {
      "text/plain": [
       "(2586, 12)"
      ]
     },
     "execution_count": 60,
     "metadata": {},
     "output_type": "execute_result"
    }
   ],
   "source": [
    "X_train.shape"
   ]
  },
  {
   "cell_type": "code",
   "execution_count": 61,
   "metadata": {},
   "outputs": [
    {
     "data": {
      "text/plain": [
       "(2586, 1)"
      ]
     },
     "execution_count": 61,
     "metadata": {},
     "output_type": "execute_result"
    }
   ],
   "source": [
    "y_train.shape"
   ]
  },
  {
   "cell_type": "code",
   "execution_count": 62,
   "metadata": {},
   "outputs": [
    {
     "data": {
      "text/plain": [
       "(397, 12)"
      ]
     },
     "execution_count": 62,
     "metadata": {},
     "output_type": "execute_result"
    }
   ],
   "source": [
    "X_test.shape"
   ]
  },
  {
   "cell_type": "code",
   "execution_count": 63,
   "metadata": {},
   "outputs": [
    {
     "data": {
      "text/plain": [
       "(397, 1)"
      ]
     },
     "execution_count": 63,
     "metadata": {},
     "output_type": "execute_result"
    }
   ],
   "source": [
    "y_test.shape"
   ]
  },
  {
   "cell_type": "markdown",
   "metadata": {},
   "source": [
    "## `Logistic Regression`"
   ]
  },
  {
   "cell_type": "markdown",
   "metadata": {},
   "source": [
    "### `From scratch`"
   ]
  },
  {
   "cell_type": "code",
   "execution_count": 64,
   "metadata": {},
   "outputs": [],
   "source": [
    "class MyLogisticRegression():\n",
    "    def __init__( self, max_itr,alpha ) : \n",
    "        self.max_itr=max_itr\n",
    "        self.alpha=alpha\n",
    "    \n",
    "    def fit(self,x_data,y_data):\n",
    "        \n",
    "        x_0=np.ones((x_data.shape[0],1))\n",
    "        x=np.concatenate((x_0, x_data), axis=1)\n",
    "        y=np.array(y_data).reshape(y_data.shape[0],1)\n",
    "        theta=np.zeros( ((x.shape[1]),1) )\n",
    "        m=x_data.shape[0]\n",
    "        itr=0\n",
    "        Z=x@theta\n",
    "        while( itr< self.max_itr   ):\n",
    "            h_theta=1/(1+np.exp(-Z))       \n",
    "            err=(h_theta-y)\n",
    "            grad= x.T@err/m\n",
    "            theta=theta-(self.alpha*grad)\n",
    "            Z=x@theta\n",
    "            itr=itr+1\n",
    "            \n",
    "        self.theta=theta-(self.alpha*grad)\n",
    "        \n",
    "    \n",
    "    \n",
    "    def predict(self,x,threshold):\n",
    "        self.threshold=threshold\n",
    "        x_0=np.ones((x.shape[0],1))\n",
    "        x=np.concatenate((x_0, x), axis=1)\n",
    "        w=self.theta\n",
    "        Z=x@w\n",
    "        h_theta=1/(1+np.exp(-Z))\n",
    "        y_predict= np.where( h_theta > threshold, 1, 0 )  \n",
    "        return y_predict\n",
    "    \n",
    "    \n",
    "    def score(self,y_pred,y):\n",
    "#         y_predict=self.predict(x,self.threshold)\n",
    "        score=accuracy_score(y_pred, y)\n",
    "        return score\n",
    "#         correctly =0\n",
    "#         y=np.array(y).reshape(y.shape[0],1)\n",
    "#         for i in range(y.shape[0]):\n",
    "#             if y[i] == y_predict[i] :            \n",
    "#                 correctly= correctly + 1\n",
    "#                 i=i+1\n",
    "#         print( \"Accuracy   :  \", ( correctly / i ) * 100 )\n",
    "#         print(f'Number of correct predictions = {correctly}, Number of uncorrect predictions = {i-correctly} : out of {y.shape[0] } prediction ') \n",
    "\n",
    "    "
   ]
  },
  {
   "cell_type": "code",
   "execution_count": 65,
   "metadata": {},
   "outputs": [],
   "source": [
    "my_model=MyLogisticRegression(1000,0.15)\n"
   ]
  },
  {
   "cell_type": "code",
   "execution_count": 66,
   "metadata": {},
   "outputs": [],
   "source": [
    "my_model.fit(X_train, y_train)"
   ]
  },
  {
   "cell_type": "code",
   "execution_count": 67,
   "metadata": {},
   "outputs": [],
   "source": [
    "threshold=0.4517796729006606"
   ]
  },
  {
   "cell_type": "code",
   "execution_count": 68,
   "metadata": {},
   "outputs": [],
   "source": [
    "y_predict=my_model.predict(X_test,threshold=threshold)\n"
   ]
  },
  {
   "cell_type": "code",
   "execution_count": 69,
   "metadata": {},
   "outputs": [
    {
     "data": {
      "text/plain": [
       "0.5163727959697733"
      ]
     },
     "execution_count": 69,
     "metadata": {},
     "output_type": "execute_result"
    }
   ],
   "source": [
    "my_model.score(y_predict,y_test)"
   ]
  },
  {
   "cell_type": "markdown",
   "metadata": {},
   "source": [
    "### `From Sklearn`"
   ]
  },
  {
   "cell_type": "code",
   "execution_count": 70,
   "metadata": {},
   "outputs": [],
   "source": [
    "model = LogisticRegression(max_iter= 100, fit_intercept= True).fit(X_train, y_train)\n",
    "\n",
    "y_pred_sklearn = model.predict(X_test)\n"
   ]
  },
  {
   "cell_type": "code",
   "execution_count": 71,
   "metadata": {},
   "outputs": [
    {
     "data": {
      "text/plain": [
       "0.5163727959697733"
      ]
     },
     "execution_count": 71,
     "metadata": {},
     "output_type": "execute_result"
    }
   ],
   "source": [
    "y_pred_new_threshold = (model.predict_proba(X_test)[:,1]>=threshold).astype(int)\n",
    "# y_pred_sklearn_train= (model.predict_proba(X_train)[:,1]>=threshold).astype(int)\n",
    "\n",
    "accuracy_score(y_pred_new_threshold, y_test)"
   ]
  },
  {
   "cell_type": "code",
   "execution_count": 72,
   "metadata": {},
   "outputs": [
    {
     "data": {
      "text/plain": [
       "0.7586206896551724"
      ]
     },
     "execution_count": 72,
     "metadata": {},
     "output_type": "execute_result"
    }
   ],
   "source": [
    "recall_score(y_test, y_pred_new_threshold)\n"
   ]
  },
  {
   "cell_type": "markdown",
   "metadata": {},
   "source": [
    "### `Evaluating the performance of the model for testing`"
   ]
  },
  {
   "cell_type": "code",
   "execution_count": 73,
   "metadata": {},
   "outputs": [
    {
     "data": {
      "text/plain": [
       "array([[139, 171],\n",
       "       [ 21,  66]], dtype=int64)"
      ]
     },
     "execution_count": 73,
     "metadata": {},
     "output_type": "execute_result"
    }
   ],
   "source": [
    "confusion_matrix(y_test, y_pred_new_threshold)"
   ]
  },
  {
   "cell_type": "code",
   "execution_count": 74,
   "metadata": {},
   "outputs": [
    {
     "data": {
      "text/html": [
       "<div>\n",
       "<style scoped>\n",
       "    .dataframe tbody tr th:only-of-type {\n",
       "        vertical-align: middle;\n",
       "    }\n",
       "\n",
       "    .dataframe tbody tr th {\n",
       "        vertical-align: top;\n",
       "    }\n",
       "\n",
       "    .dataframe thead th {\n",
       "        text-align: right;\n",
       "    }\n",
       "</style>\n",
       "<table border=\"1\" class=\"dataframe\">\n",
       "  <thead>\n",
       "    <tr style=\"text-align: right;\">\n",
       "      <th></th>\n",
       "      <th>actual_not_churn</th>\n",
       "      <th>actual_churn</th>\n",
       "    </tr>\n",
       "  </thead>\n",
       "  <tbody>\n",
       "    <tr>\n",
       "      <th>predicted_not_churn</th>\n",
       "      <td>139</td>\n",
       "      <td>21</td>\n",
       "    </tr>\n",
       "    <tr>\n",
       "      <th>predicted_churn</th>\n",
       "      <td>171</td>\n",
       "      <td>66</td>\n",
       "    </tr>\n",
       "  </tbody>\n",
       "</table>\n",
       "</div>"
      ],
      "text/plain": [
       "                     actual_not_churn  actual_churn\n",
       "predicted_not_churn               139            21\n",
       "predicted_churn                   171            66"
      ]
     },
     "execution_count": 74,
     "metadata": {},
     "output_type": "execute_result"
    }
   ],
   "source": [
    "conf_matrix = pd.DataFrame(confusion_matrix(y_test, y_pred_new_threshold).T,index=['predicted_not_churn', 'predicted_churn']).rename(columns = {0 : 'actual_not_churn', 1: 'actual_churn'})\n",
    "conf_matrix"
   ]
  },
  {
   "cell_type": "code",
   "execution_count": 75,
   "metadata": {},
   "outputs": [],
   "source": [
    "people_predicted_not_churn = conf_matrix.iloc[0, :].sum()\n",
    "people_predicted_churn = conf_matrix.iloc[1, :].sum()\n",
    "\n",
    "people_who_actually_not_churned = conf_matrix.sum()[0]\n",
    "people_who_actually_churned = conf_matrix.sum()[1]\n",
    "\n",
    "precision_not_churn = conf_matrix.iloc[0, 0]/people_predicted_not_churn\n",
    "precision_churn = conf_matrix.iloc[1, 1]/people_predicted_churn\n",
    "\n",
    "recall_not_churn = conf_matrix.iloc[0, 0]/people_who_actually_not_churned\n",
    "recall_churn = conf_matrix.iloc[1, 1]/people_who_actually_churned\n",
    "\n",
    "F1_score_not_churn = 2 * ((precision_not_churn * recall_not_churn)/(precision_not_churn + recall_not_churn))\n",
    "F1_score_churn = 2 * ((precision_churn * recall_churn)/(precision_churn + recall_churn))"
   ]
  },
  {
   "cell_type": "code",
   "execution_count": 76,
   "metadata": {},
   "outputs": [
    {
     "name": "stdout",
     "output_type": "stream",
     "text": [
      "people_predicted_not_churn : 160\n",
      "people_predicted_churn:  237\n",
      "people_who_actually_not_churned:  310\n",
      "people_who_actually_churned:  87\n",
      "-------------\n",
      "precision_not_churn:  0.86875\n",
      "recall_not_churn:  0.4483870967741935\n",
      "-------------\n",
      "precision_churn:  0.27848101265822783\n",
      "recall_churn:  0.7586206896551724\n",
      "-------------\n",
      "F1_score_not_churn:  0.5914893617021276\n",
      "F1_score_churn:  0.4074074074074074\n"
     ]
    }
   ],
   "source": [
    "print(\"people_predicted_not_churn :\" ,people_predicted_not_churn)\n",
    "print(\"people_predicted_churn: \",people_predicted_churn)\n",
    "print(\"people_who_actually_not_churned: \",people_who_actually_not_churned)\n",
    "print(\"people_who_actually_churned: \",people_who_actually_churned)\n",
    "print(\"-------------\")\n",
    "print('precision_not_churn: ', precision_not_churn)\n",
    "print('recall_not_churn: ', recall_not_churn)\n",
    "print(\"-------------\")\n",
    "print('precision_churn: ', precision_churn)\n",
    "print('recall_churn: ', recall_churn)\n",
    "print(\"-------------\")\n",
    "print('F1_score_not_churn: ', F1_score_not_churn)\n",
    "print('F1_score_churn: ', F1_score_churn)"
   ]
  },
  {
   "cell_type": "markdown",
   "metadata": {},
   "source": [
    "### `ROC Curve_test`"
   ]
  },
  {
   "cell_type": "code",
   "execution_count": 77,
   "metadata": {},
   "outputs": [
    {
     "data": {
      "image/png": "[encoded data removed]",
      "text/plain": [
       "<Figure size 432x288 with 1 Axes>"
      ]
     },
     "metadata": {
      "needs_background": "light"
     },
     "output_type": "display_data"
    }
   ],
   "source": [
    "y_pred_proba = model.predict_proba(X_test)[::, 1]\n",
    "\n",
    "fpr, tpr, thresholds = metrics.roc_curve(y_test, y_pred_proba)\n",
    "\n",
    "auc = metrics.roc_auc_score(y_test, y_pred_proba)\n",
    "\n",
    "#create ROC curve showing in the bottom the AUC curve\n",
    "plt.plot(fpr,tpr,label=\"AUC=\"+str(auc))\n",
    "plt.ylabel('True Positive Rate')\n",
    "plt.xlabel('False Positive Rate')\n",
    "plt.legend(loc=2)\n",
    "plt.show()"
   ]
  },
  {
   "cell_type": "code",
   "execution_count": 78,
   "metadata": {
    "scrolled": true
   },
   "outputs": [
    {
     "data": {
      "text/plain": [
       "0.4517796729006638"
      ]
     },
     "execution_count": 78,
     "metadata": {},
     "output_type": "execute_result"
    }
   ],
   "source": [
    "# recall >= 75% for churn\n",
    "thresholds[np.where(tpr >= 0.75)[0][0]]"
   ]
  },
  {
   "cell_type": "markdown",
   "metadata": {},
   "source": [
    "### `Evaluating the performance of the model for training`"
   ]
  },
  {
   "cell_type": "code",
   "execution_count": 79,
   "metadata": {},
   "outputs": [],
   "source": [
    "model = LogisticRegression(max_iter= 100, fit_intercept= True).fit(X_train, y_train)\n",
    "# y_pred_sklearn = model.predict(X_test)"
   ]
  },
  {
   "cell_type": "code",
   "execution_count": 80,
   "metadata": {},
   "outputs": [],
   "source": [
    "threshold=0.47923656658655867"
   ]
  },
  {
   "cell_type": "code",
   "execution_count": 81,
   "metadata": {},
   "outputs": [],
   "source": [
    "y_pred_sklearn_train= (model.predict_proba(X_train)[:,1]>=threshold).astype(int)\n"
   ]
  },
  {
   "cell_type": "code",
   "execution_count": 82,
   "metadata": {},
   "outputs": [
    {
     "data": {
      "text/html": [
       "<div>\n",
       "<style scoped>\n",
       "    .dataframe tbody tr th:only-of-type {\n",
       "        vertical-align: middle;\n",
       "    }\n",
       "\n",
       "    .dataframe tbody tr th {\n",
       "        vertical-align: top;\n",
       "    }\n",
       "\n",
       "    .dataframe thead th {\n",
       "        text-align: right;\n",
       "    }\n",
       "</style>\n",
       "<table border=\"1\" class=\"dataframe\">\n",
       "  <thead>\n",
       "    <tr style=\"text-align: right;\">\n",
       "      <th></th>\n",
       "      <th>actual_not_churn</th>\n",
       "      <th>actual_churn</th>\n",
       "    </tr>\n",
       "  </thead>\n",
       "  <tbody>\n",
       "    <tr>\n",
       "      <th>predicted_not_churn</th>\n",
       "      <td>676</td>\n",
       "      <td>411</td>\n",
       "    </tr>\n",
       "    <tr>\n",
       "      <th>predicted_churn</th>\n",
       "      <td>598</td>\n",
       "      <td>901</td>\n",
       "    </tr>\n",
       "  </tbody>\n",
       "</table>\n",
       "</div>"
      ],
      "text/plain": [
       "                     actual_not_churn  actual_churn\n",
       "predicted_not_churn               676           411\n",
       "predicted_churn                   598           901"
      ]
     },
     "execution_count": 82,
     "metadata": {},
     "output_type": "execute_result"
    }
   ],
   "source": [
    "conf_matrix_train = pd.DataFrame(confusion_matrix(y_train, y_pred_sklearn_train).T,index=['predicted_not_churn', 'predicted_churn']).rename(columns = {0 : 'actual_not_churn', 1: 'actual_churn'})\n",
    "conf_matrix_train"
   ]
  },
  {
   "cell_type": "code",
   "execution_count": 83,
   "metadata": {},
   "outputs": [],
   "source": [
    "people_predicted_not_churn = conf_matrix_train.iloc[0, :].sum()\n",
    "people_predicted_churn = conf_matrix_train.iloc[1, :].sum()\n",
    "\n",
    "people_who_actually_not_churned = conf_matrix_train.sum()[0]\n",
    "people_who_actually_churned = conf_matrix_train.sum()[1]\n",
    "\n",
    "precision_not_churn = conf_matrix_train.iloc[0, 0]/people_predicted_not_churn\n",
    "precision_churn = conf_matrix_train.iloc[1, 1]/people_predicted_churn\n",
    "\n",
    "recall_not_churn = conf_matrix_train.iloc[0, 0]/people_who_actually_not_churned\n",
    "recall_churn = conf_matrix_train.iloc[1, 1]/people_who_actually_churned\n",
    "\n",
    "F1_score_not_churn = 2 * ((precision_not_churn * recall_not_churn)/(precision_not_churn + recall_not_churn))\n",
    "F1_score_churn = 2 * ((precision_churn * recall_churn)/(precision_churn + recall_churn))"
   ]
  },
  {
   "cell_type": "code",
   "execution_count": 84,
   "metadata": {},
   "outputs": [
    {
     "name": "stdout",
     "output_type": "stream",
     "text": [
      "people_predicted_not_churn : 1087\n",
      "people_predicted_churn:  1499\n",
      "people_who_actually_not_churned:  1274\n",
      "people_who_actually_churned:  1312\n",
      "-------------\n",
      "precision_not_churn:  0.6218951241950322\n",
      "recall_not_churn:  0.5306122448979592\n",
      "-------------\n",
      "precision_churn:  0.6010673782521682\n",
      "recall_churn:  0.6867378048780488\n",
      "-------------\n",
      "F1_score_not_churn:  0.5726387124099958\n",
      "F1_score_churn:  0.64105300604767\n"
     ]
    }
   ],
   "source": [
    "print(\"people_predicted_not_churn :\" ,people_predicted_not_churn)\n",
    "print(\"people_predicted_churn: \",people_predicted_churn)\n",
    "print(\"people_who_actually_not_churned: \",people_who_actually_not_churned)\n",
    "print(\"people_who_actually_churned: \",people_who_actually_churned)\n",
    "print(\"-------------\")\n",
    "print('precision_not_churn: ', precision_not_churn)\n",
    "print('recall_not_churn: ', recall_not_churn)\n",
    "print(\"-------------\")\n",
    "print('precision_churn: ', precision_churn)\n",
    "print('recall_churn: ', recall_churn)\n",
    "print(\"-------------\")\n",
    "print('F1_score_not_churn: ', F1_score_not_churn)\n",
    "print('F1_score_churn: ', F1_score_churn)"
   ]
  },
  {
   "cell_type": "markdown",
   "metadata": {},
   "source": [
    "### `ROC Curve_train`"
   ]
  },
  {
   "cell_type": "code",
   "execution_count": 85,
   "metadata": {
    "scrolled": true
   },
   "outputs": [
    {
     "data": {
      "image/png": "[encoded data removed]",
      "text/plain": [
       "<Figure size 432x288 with 1 Axes>"
      ]
     },
     "metadata": {
      "needs_background": "light"
     },
     "output_type": "display_data"
    }
   ],
   "source": [
    "y_pred_proba = model.predict_proba(X_train)[::, 1]\n",
    "\n",
    "fpr, tpr, thresholds = metrics.roc_curve(y_train, y_pred_proba)\n",
    "\n",
    "auc = metrics.roc_auc_score(y_train, y_pred_proba)\n",
    "\n",
    "#create ROC curve showing in the bottom the AUC curve\n",
    "plt.plot(fpr,tpr,label=\"AUC=\"+str(auc))\n",
    "plt.ylabel('True Positive Rate')\n",
    "plt.xlabel('False Positive Rate')\n",
    "plt.legend(loc=2)\n",
    "plt.show()"
   ]
  },
  {
   "cell_type": "code",
   "execution_count": 86,
   "metadata": {},
   "outputs": [
    {
     "data": {
      "text/plain": [
       "array([0.00000000e+00, 7.62195122e-04, 7.62195122e-04, ...,\n",
       "       9.99237805e-01, 1.00000000e+00, 1.00000000e+00])"
      ]
     },
     "execution_count": 86,
     "metadata": {},
     "output_type": "execute_result"
    }
   ],
   "source": [
    "tpr"
   ]
  },
  {
   "cell_type": "code",
   "execution_count": 87,
   "metadata": {},
   "outputs": [
    {
     "data": {
      "text/plain": [
       "0.47923656658750063"
      ]
     },
     "execution_count": 87,
     "metadata": {},
     "output_type": "execute_result"
    }
   ],
   "source": [
    "# recall >= 75% for churn\n",
    "thresholds[np.where(tpr >= 0.6867)[0][0]]"
   ]
  },
  {
   "cell_type": "markdown",
   "metadata": {},
   "source": [
    "### `get list of the names of churns `"
   ]
  },
  {
   "cell_type": "code",
   "execution_count": 88,
   "metadata": {},
   "outputs": [],
   "source": [
    "def get_names(y,x,col_name):\n",
    "    y=pd.DataFrame(y)\n",
    "    y=y.replace(1,True)\n",
    "    y=y.replace(0,False)\n",
    "    y=np.array(y)\n",
    "    y=y.reshape(y.shape[0],)\n",
    "    y=pd.Series(y, copy=False)\n",
    "    names_test=list(x.reset_index().drop(columns=\"index\")[y][col_name])\n",
    "    return names_test"
   ]
  },
  {
   "cell_type": "code",
   "execution_count": 89,
   "metadata": {
    "scrolled": true
   },
   "outputs": [
    {
     "data": {
      "text/plain": [
       "1499"
      ]
     },
     "execution_count": 89,
     "metadata": {},
     "output_type": "execute_result"
    }
   ],
   "source": [
    "names_train=get_names(y_pred_sklearn_train,X_train_f,\"Surname\")\n",
    "len(names_train)"
   ]
  },
  {
   "cell_type": "code",
   "execution_count": 90,
   "metadata": {},
   "outputs": [
    {
     "data": {
      "text/plain": [
       "array(['Mirams', 'Paterson', 'Andrews', ..., 'Gallo', 'Sullivan',\n",
       "       'Iloerika'], dtype='<U23')"
      ]
     },
     "execution_count": 90,
     "metadata": {},
     "output_type": "execute_result"
    }
   ],
   "source": [
    "names_train=np.array(names_train)\n",
    "names_train"
   ]
  },
  {
   "cell_type": "code",
   "execution_count": 91,
   "metadata": {},
   "outputs": [
    {
     "data": {
      "text/plain": [
       "237"
      ]
     },
     "execution_count": 91,
     "metadata": {},
     "output_type": "execute_result"
    }
   ],
   "source": [
    "names_test=get_names(y_pred_new_threshold,X_test_f,\"Surname\")\n",
    "len(names_test)"
   ]
  },
  {
   "cell_type": "markdown",
   "metadata": {},
   "source": [
    "## `SVM `"
   ]
  },
  {
   "cell_type": "code",
   "execution_count": 92,
   "metadata": {},
   "outputs": [],
   "source": [
    "from sklearn.svm import SVC"
   ]
  },
  {
   "cell_type": "code",
   "execution_count": 93,
   "metadata": {},
   "outputs": [
    {
     "data": {
      "text/plain": [
       "array([0.81783595, 0.37840576, 0.06451803, 0.0508999 , 0.21836255,\n",
       "       0.0327945 , 0.96676712, 0.06859195, 0.79346311, 0.13987621,\n",
       "       0.49158912, 0.60884689, 0.79090458, 0.0837166 , 0.41760988])"
      ]
     },
     "execution_count": 93,
     "metadata": {},
     "output_type": "execute_result"
    }
   ],
   "source": [
    "ranges=np.random.rand(15)\n",
    "ranges"
   ]
  },
  {
   "cell_type": "code",
   "execution_count": 94,
   "metadata": {},
   "outputs": [
    {
     "data": {
      "text/plain": [
       "array([0.47052408, 0.27447057, 0.29626425, 0.37914942, 0.36417959])"
      ]
     },
     "execution_count": 94,
     "metadata": {},
     "output_type": "execute_result"
    }
   ],
   "source": [
    "np.random.rand(5)"
   ]
  },
  {
   "cell_type": "code",
   "execution_count": 95,
   "metadata": {},
   "outputs": [],
   "source": [
    "ranges=[0.01,0.1,1,10,100,1000]"
   ]
  },
  {
   "cell_type": "code",
   "execution_count": 96,
   "metadata": {
    "scrolled": false
   },
   "outputs": [
    {
     "name": "stdout",
     "output_type": "stream",
     "text": [
      "the recall is 0.6516768292682927 at c = 0.01\n",
      "the recall is 0.6516768292682927 at c = 0.1\n",
      "the recall is 0.6516768292682927 at c = 1\n",
      "the recall is 0.6516768292682927 at c = 10\n",
      "the recall is 0.6516768292682927 at c = 100\n",
      "the recall is 0.6516768292682927 at c = 1000\n"
     ]
    }
   ],
   "source": [
    "#search for best c for linear kernel\n",
    "ranges=[0.01,0.1,1,10,100,1000]\n",
    "scores=[]\n",
    "for i in ranges:\n",
    "    clf = SVC(C=i,kernel='linear',)\n",
    "    clf.fit(X_train, y_train)\n",
    "    y_pred_sklearn_svc_train = clf.predict(X_train)\n",
    "    score=recall_score(y_train, y_pred_sklearn_svc_train, average=None)[1] \n",
    "    scores.append(score)\n",
    "    print(f'the recall is {score} at c = {i}')\n"
   ]
  },
  {
   "cell_type": "code",
   "execution_count": 103,
   "metadata": {},
   "outputs": [],
   "source": [
    "# c=ranges[scores.index(min(scores))]\n",
    "# c"
   ]
  },
  {
   "cell_type": "code",
   "execution_count": 98,
   "metadata": {},
   "outputs": [],
   "source": [
    "# there is no effect for c at linear kernel "
   ]
  },
  {
   "cell_type": "code",
   "execution_count": 102,
   "metadata": {
    "scrolled": true
   },
   "outputs": [
    {
     "data": {
      "text/plain": [
       "array([1, 2, 3, 4, 5, 6, 7, 8, 9])"
      ]
     },
     "execution_count": 102,
     "metadata": {},
     "output_type": "execute_result"
    }
   ],
   "source": [
    "np.arange(1,10)"
   ]
  },
  {
   "cell_type": "code",
   "execution_count": 104,
   "metadata": {},
   "outputs": [
    {
     "name": "stdout",
     "output_type": "stream",
     "text": [
      "the recall is 0.7233 at c = 0.1 and gama=1,people_predicted_churn=1448 ,people_who_actually_churned =1312\n",
      "the recall is 0.6517 at c = 1 and gama=0.01,people_predicted_churn=1400 ,people_who_actually_churned =1312\n",
      "the recall is 0.6517 at c = 1 and gama=0.1,people_predicted_churn=1400 ,people_who_actually_churned =1312\n",
      "the recall is 0.6517 at c = 10 and gama=0.001,people_predicted_churn=1400 ,people_who_actually_churned =1312\n",
      "the recall is 0.6517 at c = 10 and gama=0.01,people_predicted_churn=1400 ,people_who_actually_churned =1312\n"
     ]
    }
   ],
   "source": [
    "#search for best c  and gamma for rbf kernel\n",
    "range_c=[0.001,0.01,0.1,1,10]\n",
    "\n",
    "range_gama=[0.001,0.01,0.1,1,10]\n",
    "\n",
    "scores=[]\n",
    "for i in range_c:\n",
    "    for j in range_gama :\n",
    "    \n",
    "        clf = SVC(C=i,kernel='rbf',gamma=j)\n",
    "        clf.fit(X_train, y_train)\n",
    "        y_pred_sklearn_svc_train = clf.predict(X_train)\n",
    "        score=recall_score(y_train, y_pred_sklearn_svc_train, average=None)[1] \n",
    "        scores.append(score)\n",
    "        conf_matrix_train_svc = pd.DataFrame(confusion_matrix(y_train, y_pred_sklearn_svc_train).T,index=['predicted_not_churn', 'predicted_churn']).rename(columns = {0 : 'actual_not_churn', 1: 'actual_churn'})\n",
    "        people_predicted_churn = conf_matrix_train_svc.iloc[1, :].sum()\n",
    "        people_who_actually_churned = conf_matrix_train_svc.sum()[1]\n",
    "\n",
    "        if people_predicted_churn <1500 and people_predicted_churn >=1400 :\n",
    "            \n",
    "            print(f'the recall is {score:0.4f} at c = {i} and gama={j},people_predicted_churn={people_predicted_churn} ,people_who_actually_churned ={people_who_actually_churned}')\n",
    "#         print(f'the recall is {score} at c = {i} and gama={j}')\n",
    "# alpha=ranges[scores.index(min(scores))]"
   ]
  },
  {
   "cell_type": "code",
   "execution_count": 198,
   "metadata": {},
   "outputs": [],
   "source": [
    "# the recall is 0.7233 at c = 0.1 and gama=1,people_predicted_churn=1448 ,people_who_actually_churned =1312\n"
   ]
  },
  {
   "cell_type": "code",
   "execution_count": 106,
   "metadata": {},
   "outputs": [
    {
     "data": {
      "text/plain": [
       "array([0.01, 0.11, 0.21, 0.31, 0.41, 0.51, 0.61, 0.71, 0.81, 0.91])"
      ]
     },
     "execution_count": 106,
     "metadata": {},
     "output_type": "execute_result"
    }
   ],
   "source": [
    "new_c=np.arange(0.1,0.2,0.01)\n",
    "new_gama=np.arange(0.01,1,0.1)\n",
    "new_gama"
   ]
  },
  {
   "cell_type": "code",
   "execution_count": 107,
   "metadata": {},
   "outputs": [
    {
     "name": "stdout",
     "output_type": "stream",
     "text": [
      "the recall is 0.6784 at c = 0.18999999999999995 and gama=0.01,people_predicted_churn=1478 ,people_who_actually_churned =1312\n"
     ]
    }
   ],
   "source": [
    "#search for best c  and gamma for rbf kernel\n",
    "# range_c=[0.001,0.01,0.1,1,10,100]\n",
    "\n",
    "# range_gama=range_c=[0.001,0.01,0.1,1,10,100]\n",
    "\n",
    "scores=[]\n",
    "for i in new_c:\n",
    "    for j in new_gama :\n",
    "    \n",
    "        clf = SVC(C=i,kernel='rbf',gamma=j)\n",
    "        clf.fit(X_train, y_train)\n",
    "        y_pred_sklearn_svc_train = clf.predict(X_train)\n",
    "        score=recall_score(y_train, y_pred_sklearn_svc_train, average=None)[1] \n",
    "        scores.append(score)\n",
    "        conf_matrix_train_svc = pd.DataFrame(confusion_matrix(y_train, y_pred_sklearn_svc_train).T,index=['predicted_not_churn', 'predicted_churn']).rename(columns = {0 : 'actual_not_churn', 1: 'actual_churn'})\n",
    "        people_predicted_churn = conf_matrix_train_svc.iloc[1, :].sum()\n",
    "        people_who_actually_churned = conf_matrix_train_svc.sum()[1]\n",
    "\n",
    "        if people_predicted_churn <1500 and people_predicted_churn >=1400 :\n",
    "            \n",
    "            print(f'the recall is {score:0.4f} at c = {i} and gama={j},people_predicted_churn={people_predicted_churn} ,people_who_actually_churned ={people_who_actually_churned}')\n",
    "#         print(f'the recall is {score} at c = {i} and gama={j}')\n",
    "# alpha=ranges[scores.index(min(scores))]"
   ]
  },
  {
   "cell_type": "code",
   "execution_count": 201,
   "metadata": {},
   "outputs": [],
   "source": [
    "# the recall is 0.6784 at c = 0.18999999999999995 and gama=0.01,people_predicted_churn=1478 ,people_who_actually_churned =1312\n",
    "\n",
    "#189184312852679"
   ]
  },
  {
   "cell_type": "code",
   "execution_count": 96,
   "metadata": {},
   "outputs": [
    {
     "name": "stdout",
     "output_type": "stream",
     "text": [
      "recall_train 0.6783536585365854\n",
      "recall_test 0.7241379310344828\n"
     ]
    },
    {
     "data": {
      "text/plain": [
       "(1312, 1478)"
      ]
     },
     "execution_count": 96,
     "metadata": {},
     "output_type": "execute_result"
    }
   ],
   "source": [
    "clf = SVC(C=0.18999999999999995,kernel='rbf',gamma=.01)\n",
    "clf.fit(X_train, y_train)\n",
    "y_pred_sklearn_svc_train = clf.predict(X_train)\n",
    "recall_train=recall_score(y_train, y_pred_sklearn_svc_train, average=None)[1]\n",
    "print('recall_train',recall_train)\n",
    "y_pred_sklearn_svc = clf.predict(X_test)\n",
    "recall_test=recall_score(y_test, y_pred_sklearn_svc, average=None)[1]\n",
    "print('recall_test',recall_test)\n",
    "conf_matrix_train_svc = pd.DataFrame(confusion_matrix(y_train, y_pred_sklearn_svc_train).T,index=['predicted_not_churn', 'predicted_churn']).rename(columns = {0 : 'actual_not_churn', 1: 'actual_churn'})\n",
    "people_predicted_churn = conf_matrix_train_svc.iloc[1, :].sum()\n",
    "people_who_actually_churned = conf_matrix_train_svc.sum()[1]\n",
    "people_who_actually_churned,people_predicted_churn"
   ]
  },
  {
   "cell_type": "code",
   "execution_count": 97,
   "metadata": {},
   "outputs": [
    {
     "data": {
      "text/html": [
       "<div>\n",
       "<style scoped>\n",
       "    .dataframe tbody tr th:only-of-type {\n",
       "        vertical-align: middle;\n",
       "    }\n",
       "\n",
       "    .dataframe tbody tr th {\n",
       "        vertical-align: top;\n",
       "    }\n",
       "\n",
       "    .dataframe thead th {\n",
       "        text-align: right;\n",
       "    }\n",
       "</style>\n",
       "<table border=\"1\" class=\"dataframe\">\n",
       "  <thead>\n",
       "    <tr style=\"text-align: right;\">\n",
       "      <th></th>\n",
       "      <th>actual_not_churn</th>\n",
       "      <th>actual_churn</th>\n",
       "    </tr>\n",
       "  </thead>\n",
       "  <tbody>\n",
       "    <tr>\n",
       "      <th>predicted_not_churn</th>\n",
       "      <td>686</td>\n",
       "      <td>422</td>\n",
       "    </tr>\n",
       "    <tr>\n",
       "      <th>predicted_churn</th>\n",
       "      <td>588</td>\n",
       "      <td>890</td>\n",
       "    </tr>\n",
       "  </tbody>\n",
       "</table>\n",
       "</div>"
      ],
      "text/plain": [
       "                     actual_not_churn  actual_churn\n",
       "predicted_not_churn               686           422\n",
       "predicted_churn                   588           890"
      ]
     },
     "execution_count": 97,
     "metadata": {},
     "output_type": "execute_result"
    }
   ],
   "source": [
    "conf_matrix_train_svc = pd.DataFrame(confusion_matrix(y_train, y_pred_sklearn_svc_train).T,index=['predicted_not_churn', 'predicted_churn']).rename(columns = {0 : 'actual_not_churn', 1: 'actual_churn'})\n",
    "conf_matrix_train_svc"
   ]
  },
  {
   "cell_type": "code",
   "execution_count": 98,
   "metadata": {},
   "outputs": [],
   "source": [
    "people_predicted_not_churn = conf_matrix_train_svc.iloc[0, :].sum()\n",
    "people_predicted_churn = conf_matrix_train_svc.iloc[1, :].sum()\n",
    "\n",
    "people_who_actually_not_churned = conf_matrix_train_svc.sum()[0]\n",
    "people_who_actually_churned = conf_matrix_train_svc.sum()[1]\n",
    "\n",
    "precision_not_churn = conf_matrix_train_svc.iloc[0, 0]/people_predicted_not_churn\n",
    "precision_churn = conf_matrix_train_svc.iloc[1, 1]/people_predicted_churn\n",
    "\n",
    "recall_not_churn = conf_matrix_train_svc.iloc[0, 0]/people_who_actually_not_churned\n",
    "recall_churn = conf_matrix_train_svc.iloc[1, 1]/people_who_actually_churned\n",
    "\n",
    "F1_score_not_churn = 2 * ((precision_not_churn * recall_not_churn)/(precision_not_churn + recall_not_churn))\n",
    "F1_score_churn = 2 * ((precision_churn * recall_churn)/(precision_churn + recall_churn))"
   ]
  },
  {
   "cell_type": "code",
   "execution_count": 99,
   "metadata": {},
   "outputs": [
    {
     "name": "stdout",
     "output_type": "stream",
     "text": [
      "people_predicted_not_churn : 1108\n",
      "people_predicted_churn:  1478\n",
      "people_who_actually_not_churned:  1274\n",
      "people_who_actually_churned:  1312\n",
      "-------------\n",
      "precision_not_churn:  0.6191335740072202\n",
      "recall_not_churn:  0.5384615384615384\n",
      "-------------\n",
      "precision_churn:  0.6021650879566982\n",
      "recall_churn:  0.6783536585365854\n",
      "-------------\n",
      "F1_score_not_churn:  0.5759865659109992\n",
      "F1_score_churn:  0.6379928315412187\n"
     ]
    }
   ],
   "source": [
    "print(\"people_predicted_not_churn :\" ,people_predicted_not_churn)\n",
    "print(\"people_predicted_churn: \",people_predicted_churn)\n",
    "print(\"people_who_actually_not_churned: \",people_who_actually_not_churned)\n",
    "print(\"people_who_actually_churned: \",people_who_actually_churned)\n",
    "print(\"-------------\")\n",
    "print('precision_not_churn: ', precision_not_churn)\n",
    "print('recall_not_churn: ', recall_not_churn)\n",
    "print(\"-------------\")\n",
    "print('precision_churn: ', precision_churn)\n",
    "print('recall_churn: ', recall_churn)\n",
    "print(\"-------------\")\n",
    "print('F1_score_not_churn: ', F1_score_not_churn)\n",
    "print('F1_score_churn: ', F1_score_churn)"
   ]
  },
  {
   "cell_type": "code",
   "execution_count": 100,
   "metadata": {},
   "outputs": [
    {
     "data": {
      "text/plain": [
       "array(['Mirams', 'Paterson', 'Andrews', ..., 'Gallo', 'Sullivan',\n",
       "       'Iloerika'], dtype='<U23')"
      ]
     },
     "execution_count": 100,
     "metadata": {},
     "output_type": "execute_result"
    }
   ],
   "source": [
    "names_train=np.array(get_names(y_pred_sklearn_svc_train,X_train_f,\"Surname\"))\n",
    "(names_train)"
   ]
  },
  {
   "cell_type": "code",
   "execution_count": 101,
   "metadata": {},
   "outputs": [
    {
     "data": {
      "text/plain": [
       "array([1, 2, 3, 4])"
      ]
     },
     "execution_count": 101,
     "metadata": {},
     "output_type": "execute_result"
    }
   ],
   "source": [
    "range_d=np.arange(1,5)\n",
    "range_d"
   ]
  },
  {
   "cell_type": "code",
   "execution_count": null,
   "metadata": {},
   "outputs": [
    {
     "name": "stdout",
     "output_type": "stream",
     "text": [
      "the recall is 0.652 at c = 0.001 and gama=5,people_predicted_churn=1400 ,people_who_actually_churned =1312 and degree = 1\n",
      "the recall is 0.652 at c = 0.01 and gama=1,people_predicted_churn=1400 ,people_who_actually_churned =1312 and degree = 1\n",
      "the recall is 0.652 at c = 0.01 and gama=5,people_predicted_churn=1400 ,people_who_actually_churned =1312 and degree = 1\n",
      "the recall is 0.652 at c = 0.1 and gama=0.1,people_predicted_churn=1400 ,people_who_actually_churned =1312 and degree = 1\n",
      "the recall is 0.652 at c = 0.1 and gama=1,people_predicted_churn=1400 ,people_who_actually_churned =1312 and degree = 1\n",
      "the recall is 0.652 at c = 0.1 and gama=5,people_predicted_churn=1400 ,people_who_actually_churned =1312 and degree = 1\n",
      "the recall is 0.652 at c = 1 and gama=0.01,people_predicted_churn=1400 ,people_who_actually_churned =1312 and degree = 1\n",
      "the recall is 0.652 at c = 1 and gama=0.1,people_predicted_churn=1400 ,people_who_actually_churned =1312 and degree = 1\n",
      "the recall is 0.652 at c = 1 and gama=1,people_predicted_churn=1400 ,people_who_actually_churned =1312 and degree = 1\n",
      "the recall is 0.652 at c = 1 and gama=5,people_predicted_churn=1400 ,people_who_actually_churned =1312 and degree = 1\n",
      "the recall is 0.652 at c = 5 and gama=0.001,people_predicted_churn=1400 ,people_who_actually_churned =1312 and degree = 1\n",
      "the recall is 0.652 at c = 5 and gama=0.01,people_predicted_churn=1400 ,people_who_actually_churned =1312 and degree = 1\n",
      "the recall is 0.652 at c = 5 and gama=0.1,people_predicted_churn=1400 ,people_who_actually_churned =1312 and degree = 1\n",
      "the recall is 0.652 at c = 5 and gama=1,people_predicted_churn=1400 ,people_who_actually_churned =1312 and degree = 1\n",
      "the recall is 0.652 at c = 5 and gama=5,people_predicted_churn=1400 ,people_who_actually_churned =1312 and degree = 1\n",
      "the recall is 0.652 at c = 0.001 and gama=5,people_predicted_churn=1400 ,people_who_actually_churned =1312 and degree = 2\n",
      "the recall is 0.652 at c = 0.01 and gama=1,people_predicted_churn=1400 ,people_who_actually_churned =1312 and degree = 2\n",
      "the recall is 0.652 at c = 0.01 and gama=5,people_predicted_churn=1400 ,people_who_actually_churned =1312 and degree = 2\n",
      "the recall is 0.652 at c = 0.1 and gama=1,people_predicted_churn=1400 ,people_who_actually_churned =1312 and degree = 2\n",
      "the recall is 0.652 at c = 0.1 and gama=5,people_predicted_churn=1400 ,people_who_actually_churned =1312 and degree = 2\n",
      "the recall is 0.652 at c = 1 and gama=0.1,people_predicted_churn=1400 ,people_who_actually_churned =1312 and degree = 2\n",
      "the recall is 0.652 at c = 1 and gama=1,people_predicted_churn=1400 ,people_who_actually_churned =1312 and degree = 2\n",
      "the recall is 0.652 at c = 1 and gama=5,people_predicted_churn=1400 ,people_who_actually_churned =1312 and degree = 2\n",
      "the recall is 0.652 at c = 5 and gama=0.1,people_predicted_churn=1400 ,people_who_actually_churned =1312 and degree = 2\n",
      "the recall is 0.652 at c = 5 and gama=1,people_predicted_churn=1400 ,people_who_actually_churned =1312 and degree = 2\n",
      "the recall is 0.652 at c = 5 and gama=5,people_predicted_churn=1400 ,people_who_actually_churned =1312 and degree = 2\n",
      "the recall is 0.666 at c = 0.01 and gama=1,people_predicted_churn=1408 ,people_who_actually_churned =1312 and degree = 3\n",
      "the recall is 0.675 at c = 5 and gama=0.1,people_predicted_churn=1441 ,people_who_actually_churned =1312 and degree = 3\n"
     ]
    }
   ],
   "source": [
    "#search for best c ,gamma and degree for Polynomial  kernel\n",
    "range_d=np.arange(1,4)\n",
    "\n",
    "range_c=[0.001,0.01,0.1,1,5]\n",
    "\n",
    "range_gama=[0.001,0.01,0.1,1,5]\n",
    "\n",
    "scores=[]\n",
    "for n in range_d:\n",
    "    for i in range_c:\n",
    "        for j in range_gama :\n",
    "\n",
    "            clf = SVC(C=i,kernel='poly',gamma=j,degree=n)\n",
    "            clf.fit(X_train, y_train)\n",
    "            y_pred_sklearn_svc_train = clf.predict(X_train)\n",
    "            score=recall_score(y_train, y_pred_sklearn_svc_train, average=None)[1] \n",
    "            scores.append(score)\n",
    "            conf_matrix_train_svc = pd.DataFrame(confusion_matrix(y_train, y_pred_sklearn_svc_train).T,index=['predicted_not_churn', 'predicted_churn']).rename(columns = {0 : 'actual_not_churn', 1: 'actual_churn'})\n",
    "            people_predicted_churn = conf_matrix_train_svc.iloc[1, :].sum()\n",
    "            people_who_actually_churned = conf_matrix_train_svc.sum()[1]\n",
    "\n",
    "            if people_predicted_churn <1500 and people_predicted_churn >=1400 :\n",
    "                print(f'the recall is {score:0.3f} at c = {i} and gama={j},people_predicted_churn={people_predicted_churn} ,people_who_actually_churned ={people_who_actually_churned} and degree = {n}')\n",
    "    #         print(f'the recall is {score} at c = {i} and gama={j}')\n",
    "    # alpha=ranges[scores.index(min(scores))]"
   ]
  },
  {
   "cell_type": "code",
   "execution_count": 124,
   "metadata": {},
   "outputs": [
    {
     "name": "stdout",
     "output_type": "stream",
     "text": [
      "the recall is 0.693 ,people_predicted_churn=1500 ,people_who_actually_churned =1312 \n"
     ]
    }
   ],
   "source": [
    "clf = SVC(C=2.4,kernel='poly',gamma=0.1,degree=3)\n",
    "clf.fit(X_train, y_train)\n",
    "y_pred_sklearn_svc_train = clf.predict(X_train)\n",
    "score=recall_score(y_train, y_pred_sklearn_svc_train, average=None)[1] \n",
    "conf_matrix_train_svc = pd.DataFrame(confusion_matrix(y_train, y_pred_sklearn_svc_train).T,index=['predicted_not_churn', 'predicted_churn']).rename(columns = {0 : 'actual_not_churn', 1: 'actual_churn'})\n",
    "people_predicted_churn = conf_matrix_train_svc.iloc[1, :].sum()\n",
    "people_who_actually_churned = conf_matrix_train_svc.sum()[1]\n",
    "print(f'the recall is {score:0.3f} ,people_predicted_churn={people_predicted_churn} ,people_who_actually_churned ={people_who_actually_churned} ')"
   ]
  },
  {
   "cell_type": "code",
   "execution_count": 125,
   "metadata": {},
   "outputs": [
    {
     "data": {
      "text/html": [
       "<div>\n",
       "<style scoped>\n",
       "    .dataframe tbody tr th:only-of-type {\n",
       "        vertical-align: middle;\n",
       "    }\n",
       "\n",
       "    .dataframe tbody tr th {\n",
       "        vertical-align: top;\n",
       "    }\n",
       "\n",
       "    .dataframe thead th {\n",
       "        text-align: right;\n",
       "    }\n",
       "</style>\n",
       "<table border=\"1\" class=\"dataframe\">\n",
       "  <thead>\n",
       "    <tr style=\"text-align: right;\">\n",
       "      <th></th>\n",
       "      <th>actual_not_churn</th>\n",
       "      <th>actual_churn</th>\n",
       "    </tr>\n",
       "  </thead>\n",
       "  <tbody>\n",
       "    <tr>\n",
       "      <th>predicted_not_churn</th>\n",
       "      <td>683</td>\n",
       "      <td>403</td>\n",
       "    </tr>\n",
       "    <tr>\n",
       "      <th>predicted_churn</th>\n",
       "      <td>591</td>\n",
       "      <td>909</td>\n",
       "    </tr>\n",
       "  </tbody>\n",
       "</table>\n",
       "</div>"
      ],
      "text/plain": [
       "                     actual_not_churn  actual_churn\n",
       "predicted_not_churn               683           403\n",
       "predicted_churn                   591           909"
      ]
     },
     "execution_count": 125,
     "metadata": {},
     "output_type": "execute_result"
    }
   ],
   "source": [
    "conf_matrix_train_svc"
   ]
  },
  {
   "cell_type": "code",
   "execution_count": 126,
   "metadata": {},
   "outputs": [],
   "source": [
    "people_predicted_not_churn = conf_matrix_train_svc.iloc[0, :].sum()\n",
    "people_predicted_churn = conf_matrix_train_svc.iloc[1, :].sum()\n",
    "\n",
    "people_who_actually_not_churned = conf_matrix_train_svc.sum()[0]\n",
    "people_who_actually_churned = conf_matrix_train_svc.sum()[1]\n",
    "\n",
    "precision_not_churn = conf_matrix_train_svc.iloc[0, 0]/people_predicted_not_churn\n",
    "precision_churn = conf_matrix_train_svc.iloc[1, 1]/people_predicted_churn\n",
    "\n",
    "recall_not_churn = conf_matrix_train_svc.iloc[0, 0]/people_who_actually_not_churned\n",
    "recall_churn = conf_matrix_train_svc.iloc[1, 1]/people_who_actually_churned\n",
    "\n",
    "F1_score_not_churn = 2 * ((precision_not_churn * recall_not_churn)/(precision_not_churn + recall_not_churn))\n",
    "F1_score_churn = 2 * ((precision_churn * recall_churn)/(precision_churn + recall_churn))"
   ]
  },
  {
   "cell_type": "code",
   "execution_count": 127,
   "metadata": {},
   "outputs": [
    {
     "name": "stdout",
     "output_type": "stream",
     "text": [
      "people_predicted_not_churn : 1086\n",
      "people_predicted_churn:  1500\n",
      "people_who_actually_not_churned:  1274\n",
      "people_who_actually_churned:  1312\n",
      "-------------\n",
      "precision_not_churn:  0.6289134438305709\n",
      "recall_not_churn:  0.5361067503924647\n",
      "-------------\n",
      "precision_churn:  0.606\n",
      "recall_churn:  0.6928353658536586\n",
      "-------------\n",
      "F1_score_not_churn:  0.5788135593220339\n",
      "F1_score_churn:  0.6465149359886202\n"
     ]
    }
   ],
   "source": [
    "print(\"people_predicted_not_churn :\" ,people_predicted_not_churn)\n",
    "print(\"people_predicted_churn: \",people_predicted_churn)\n",
    "print(\"people_who_actually_not_churned: \",people_who_actually_not_churned)\n",
    "print(\"people_who_actually_churned: \",people_who_actually_churned)\n",
    "print(\"-------------\")\n",
    "print('precision_not_churn: ', precision_not_churn)\n",
    "print('recall_not_churn: ', recall_not_churn)\n",
    "print(\"-------------\")\n",
    "print('precision_churn: ', precision_churn)\n",
    "print('recall_churn: ', recall_churn)\n",
    "print(\"-------------\")\n",
    "print('F1_score_not_churn: ', F1_score_not_churn)\n",
    "print('F1_score_churn: ', F1_score_churn)"
   ]
  },
  {
   "cell_type": "code",
   "execution_count": 130,
   "metadata": {},
   "outputs": [
    {
     "data": {
      "text/plain": [
       "array(['Mirams', 'Paterson', 'Andrews', ..., 'Sullivan', 'Foster',\n",
       "       'Iloerika'], dtype='<U23')"
      ]
     },
     "execution_count": 130,
     "metadata": {},
     "output_type": "execute_result"
    }
   ],
   "source": [
    "names_train=np.array(get_names(y_pred_sklearn_svc_train,X_train_f,\"Surname\"))\n",
    "(names_train)"
   ]
  },
  {
   "cell_type": "markdown",
   "metadata": {},
   "source": [
    "### `Plots for  RBF kernel SVM VS C`"
   ]
  },
  {
   "cell_type": "code",
   "execution_count": 131,
   "metadata": {},
   "outputs": [],
   "source": [
    "from sklearn.metrics import f1_score"
   ]
  },
  {
   "cell_type": "code",
   "execution_count": 163,
   "metadata": {},
   "outputs": [],
   "source": [
    "new_c=np.arange(0.1,0.2,0.01)\n",
    "# new_gama=np.arange(0.01,1,0.1)\n",
    "new_c=[0.001,.01,0.1,1,5,10,50,100]\n",
    "scores_train=[]\n",
    "scores_test=[]\n",
    "\n",
    "for i in new_c:\n",
    "    \n",
    "        clf = SVC(C=i,kernel='rbf')\n",
    "        clf.fit(X_train, y_train)\n",
    "        y_pred_sklearn_svc_train = clf.predict(X_train)\n",
    "        y_pred_sklearn_svc_test = clf.predict(X_test)\n",
    "\n",
    "        score_train=f1_score(y_train, y_pred_sklearn_svc_train, average=None)[1]\n",
    "        score_test=f1_score(y_test, y_pred_sklearn_svc_test, average=None)[1] \n",
    "        scores_train.append(score_train)\n",
    "        scores_test.append(score_test)\n",
    "\n",
    "        "
   ]
  },
  {
   "cell_type": "code",
   "execution_count": 164,
   "metadata": {},
   "outputs": [
    {
     "data": {
      "text/plain": [
       "0.4059040590405904"
      ]
     },
     "execution_count": 164,
     "metadata": {},
     "output_type": "execute_result"
    }
   ],
   "source": [
    "clf = SVC(C=3,kernel='rbf')\n",
    "clf.fit(X_train, y_train)\n",
    "# y_pred_sklearn_svc_train = clf.predict(X_train)\n",
    "y_pred_sklearn_svc_test = clf.predict(X_test)\n",
    "score_test=f1_score(y_test, y_pred_sklearn_svc_test, average=None)[1] \n",
    "score_test"
   ]
  },
  {
   "cell_type": "code",
   "execution_count": 185,
   "metadata": {
    "scrolled": true
   },
   "outputs": [
    {
     "data": {
      "image/png": "[encoded data removed]",
      "text/plain": [
       "<Figure size 432x288 with 1 Axes>"
      ]
     },
     "metadata": {
      "needs_background": "light"
     },
     "output_type": "display_data"
    }
   ],
   "source": [
    "plt.plot(new_c,scores_train);\n",
    "plt.title(\"f1_score vs change C -train\");\n",
    "plt.xlabel(\"C parameter\")\n",
    "plt.ylabel(\"F1 score\");\n"
   ]
  },
  {
   "cell_type": "code",
   "execution_count": 184,
   "metadata": {
    "scrolled": true
   },
   "outputs": [
    {
     "data": {
      "image/png": "[encoded data removed]",
      "text/plain": [
       "<Figure size 432x288 with 1 Axes>"
      ]
     },
     "metadata": {
      "needs_background": "light"
     },
     "output_type": "display_data"
    }
   ],
   "source": [
    "plt.plot(new_c,scores_test);\n",
    "plt.title(\"f1_score vs change C -test\");\n",
    "plt.xlabel(\"C parameter\")\n",
    "plt.ylabel(\"F1 score\");"
   ]
  },
  {
   "cell_type": "markdown",
   "metadata": {},
   "source": [
    "### `Plots for  RBF kernel SVM VS gamma`"
   ]
  },
  {
   "cell_type": "code",
   "execution_count": 172,
   "metadata": {},
   "outputs": [],
   "source": [
    "\n",
    "new_gama=[0.001,.01,0.1,1,5,10,50,100]\n",
    "scores_train=[]\n",
    "scores_test=[]\n",
    "\n",
    "# for i in new_c:\n",
    "for j in new_gama :\n",
    "    \n",
    "        clf = SVC(kernel='rbf',gamma=j)\n",
    "        clf.fit(X_train, y_train)\n",
    "        y_pred_sklearn_svc_train = clf.predict(X_train)\n",
    "        y_pred_sklearn_svc_test = clf.predict(X_test)\n",
    "\n",
    "        score_train=f1_score(y_train, y_pred_sklearn_svc_train, average=None)[1]\n",
    "        score_test=f1_score(y_test, y_pred_sklearn_svc_test, average=None)[1] \n",
    "        scores_train.append(score_train)\n",
    "        scores_test.append(score_test)\n",
    "\n",
    "        "
   ]
  },
  {
   "cell_type": "code",
   "execution_count": 186,
   "metadata": {},
   "outputs": [
    {
     "data": {
      "image/png": "[encoded data removed]",
      "text/plain": [
       "<Figure size 432x288 with 1 Axes>"
      ]
     },
     "metadata": {
      "needs_background": "light"
     },
     "output_type": "display_data"
    }
   ],
   "source": [
    "plt.plot(new_c,scores_train);\n",
    "plt.title(\"f1_score vs change gamma -train\");\n",
    "plt.xlabel(\"gamma parameter\")\n",
    "plt.ylabel(\"F1 score\");"
   ]
  },
  {
   "cell_type": "code",
   "execution_count": 187,
   "metadata": {},
   "outputs": [
    {
     "data": {
      "image/png": "[encoded data removed]",
      "text/plain": [
       "<Figure size 432x288 with 1 Axes>"
      ]
     },
     "metadata": {
      "needs_background": "light"
     },
     "output_type": "display_data"
    }
   ],
   "source": [
    "plt.plot(new_c,scores_test);\n",
    "plt.title(\"f1_score vs change gamma -test\");\n",
    "plt.xlabel(\"gamma parameter\")\n",
    "plt.ylabel(\"F1 score\");"
   ]
  },
  {
   "cell_type": "markdown",
   "metadata": {},
   "source": [
    "### `Compare the best setting`"
   ]
  },
  {
   "cell_type": "markdown",
   "metadata": {},
   "source": [
    "#### `for LR `"
   ]
  },
  {
   "cell_type": "code",
   "execution_count": 192,
   "metadata": {},
   "outputs": [
    {
     "name": "stdout",
     "output_type": "stream",
     "text": [
      "1499\n"
     ]
    },
    {
     "data": {
      "text/plain": [
       "0          Mirams\n",
       "1        Paterson\n",
       "2         Andrews\n",
       "3       Tomlinson\n",
       "4           Clark\n",
       "          ...    \n",
       "1494      Hancock\n",
       "1495           Su\n",
       "1496        Gallo\n",
       "1497     Sullivan\n",
       "1498     Iloerika\n",
       "Length: 1499, dtype: object"
      ]
     },
     "execution_count": 192,
     "metadata": {},
     "output_type": "execute_result"
    }
   ],
   "source": [
    "model = LogisticRegression(max_iter= 100, fit_intercept= True).fit(X_train, y_train)\n",
    "threshold=0.47923656658655867\n",
    "y_pred_sklearn_train= (model.predict_proba(X_train)[:,1]>=threshold).astype(int)\n",
    "names_train=get_names(y_pred_sklearn_train,X_train_f,\"Surname\")\n",
    "print(len(names_train))\n",
    "pd.Series(names_train)"
   ]
  },
  {
   "cell_type": "markdown",
   "metadata": {},
   "source": [
    "#### `for SVM`"
   ]
  },
  {
   "cell_type": "code",
   "execution_count": 193,
   "metadata": {},
   "outputs": [
    {
     "name": "stdout",
     "output_type": "stream",
     "text": [
      "1500\n"
     ]
    },
    {
     "data": {
      "text/plain": [
       "0          Mirams\n",
       "1        Paterson\n",
       "2         Andrews\n",
       "3       Tomlinson\n",
       "4           Clark\n",
       "          ...    \n",
       "1495           Su\n",
       "1496        Gallo\n",
       "1497     Sullivan\n",
       "1498       Foster\n",
       "1499     Iloerika\n",
       "Length: 1500, dtype: object"
      ]
     },
     "execution_count": 193,
     "metadata": {},
     "output_type": "execute_result"
    }
   ],
   "source": [
    "clf = SVC(C=2.4,kernel='poly',gamma=0.1,degree=3)\n",
    "clf.fit(X_train, y_train)\n",
    "y_pred_sklearn_svc_train = clf.predict(X_train)\n",
    "names_train=get_names(y_pred_sklearn_svc_train,X_train_f,\"Surname\")\n",
    "print(len(names_train))\n",
    "pd.Series(names_train)"
   ]
  },
  {
   "cell_type": "markdown",
   "metadata": {},
   "source": [
    "### `summary`"
   ]
  },
  {
   "cell_type": "markdown",
   "metadata": {},
   "source": [
    "~~ we want a model which find a list of churners  but list does not exceed 1500 customers  and actually churned  aprox 1300 customers \n",
    ", the best model fulfilled the requirements  is the SVM with poly kernel"
   ]
  },
  {
   "cell_type": "code",
   "execution_count": 196,
   "metadata": {},
   "outputs": [],
   "source": [
    "conf_matrix_train_svc = pd.DataFrame(confusion_matrix(y_train, y_pred_sklearn_svc_train).T,index=['predicted_not_churn', 'predicted_churn']).rename(columns = {0 : 'actual_not_churn', 1: 'actual_churn'})"
   ]
  },
  {
   "cell_type": "code",
   "execution_count": 197,
   "metadata": {},
   "outputs": [],
   "source": [
    "people_predicted_not_churn = conf_matrix_train_svc.iloc[0, :].sum()\n",
    "people_predicted_churn = conf_matrix_train_svc.iloc[1, :].sum()\n",
    "\n",
    "people_who_actually_not_churned = conf_matrix_train_svc.sum()[0]\n",
    "people_who_actually_churned = conf_matrix_train_svc.sum()[1]\n",
    "\n",
    "precision_not_churn = conf_matrix_train_svc.iloc[0, 0]/people_predicted_not_churn\n",
    "precision_churn = conf_matrix_train_svc.iloc[1, 1]/people_predicted_churn\n",
    "\n",
    "recall_not_churn = conf_matrix_train_svc.iloc[0, 0]/people_who_actually_not_churned\n",
    "recall_churn = conf_matrix_train_svc.iloc[1, 1]/people_who_actually_churned\n",
    "\n",
    "F1_score_not_churn = 2 * ((precision_not_churn * recall_not_churn)/(precision_not_churn + recall_not_churn))\n",
    "F1_score_churn = 2 * ((precision_churn * recall_churn)/(precision_churn + recall_churn))\n",
    "\n",
    "\n"
   ]
  },
  {
   "cell_type": "code",
   "execution_count": 198,
   "metadata": {},
   "outputs": [
    {
     "name": "stdout",
     "output_type": "stream",
     "text": [
      "people_predicted_not_churn : 1086\n",
      "people_predicted_churn:  1500\n",
      "people_who_actually_not_churned:  1274\n",
      "people_who_actually_churned:  1312\n",
      "-------------\n",
      "precision_not_churn:  0.6289134438305709\n",
      "recall_not_churn:  0.5361067503924647\n",
      "-------------\n",
      "precision_churn:  0.606\n",
      "recall_churn:  0.6928353658536586\n",
      "-------------\n",
      "F1_score_not_churn:  0.5788135593220339\n",
      "F1_score_churn:  0.6465149359886202\n"
     ]
    }
   ],
   "source": [
    "print(\"people_predicted_not_churn :\" ,people_predicted_not_churn)\n",
    "print(\"people_predicted_churn: \",people_predicted_churn)\n",
    "print(\"people_who_actually_not_churned: \",people_who_actually_not_churned)\n",
    "print(\"people_who_actually_churned: \",people_who_actually_churned)\n",
    "print(\"-------------\")\n",
    "print('precision_not_churn: ', precision_not_churn)\n",
    "print('recall_not_churn: ', recall_not_churn)\n",
    "print(\"-------------\")\n",
    "print('precision_churn: ', precision_churn)\n",
    "print('recall_churn: ', recall_churn)\n",
    "print(\"-------------\")\n",
    "print('F1_score_not_churn: ', F1_score_not_churn)\n",
    "print('F1_score_churn: ', F1_score_churn)"
   ]
  }
 ],
 "metadata": {
  "kernelspec": {
   "display_name": "Python 3",
   "language": "python",
   "name": "python3"
  },
  "language_info": {
   "codemirror_mode": {
    "name": "ipython",
    "version": 3
   },
   "file_extension": ".py",
   "mimetype": "text/x-python",
   "name": "python",
   "nbconvert_exporter": "python",
   "pygments_lexer": "ipython3",
   "version": "3.7.6"
  }
 },
 "nbformat": 4,
 "nbformat_minor": 4
}
